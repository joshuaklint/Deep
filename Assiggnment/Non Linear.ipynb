{
 "cells": [
  {
   "cell_type": "code",
   "execution_count": 55,
   "id": "initial_id",
   "metadata": {
    "collapsed": true,
    "ExecuteTime": {
     "end_time": "2024-01-05T13:57:13.827761200Z",
     "start_time": "2024-01-05T13:57:13.502707100Z"
    }
   },
   "outputs": [],
   "source": [
    "import numpy as np\n",
    "import matplotlib.pyplot as plt\n",
    "import seaborn as sns\n",
    "import pandas as pd\n",
    "from sklearn.model_selection import train_test_split\n",
    "from sklearn.preprocessing import StandardScaler, LabelEncoder, PolynomialFeatures\n",
    "from sklearn.ensemble import RandomForestClassifier\n",
    "from sklearn.tree import DecisionTreeClassifier\n",
    "from sklearn.discriminant_analysis import QuadraticDiscriminantAnalysis \n",
    "from sklearn.neighbors import KNeighborsClassifier\n",
    "from sklearn.svm import SVC\n",
    "from sklearn.metrics import accuracy_score, precision_score, recall_score\n"
   ]
  },
  {
   "cell_type": "code",
   "outputs": [
    {
     "data": {
      "text/plain": "   N total     Mean   Standard Deviation   SE of mean  Variance  Skewness  \\\n0    40001  2.988890             0.112882    0.000564  0.012742  2.515207   \n1    40001  2.992975             0.110564    0.000553  0.012224  2.621947   \n2    40001  2.994869             0.111194    0.000556  0.012364  2.622178   \n3    40001  2.997241             0.112246    0.000561  0.012599  2.530313   \n4    40001  2.999304             0.111688    0.000558  0.012474  2.572693   \n\n    Kurtosis  Coefficient of Variation  Mean absolute Deviation     Mode   \\\n0  10.459889                  0.037767                 0.070676  2.959532   \n1  10.901485                  0.036941                 0.068431  2.959532   \n2  10.918732                  0.037128                 0.068784  2.959532   \n3  10.554527                  0.037450                 0.069928  2.959532   \n4  10.724008                  0.037238                 0.069026  2.959532   \n\n   Harmonic Mean     Median  Flowrate  \n0        2.984968  2.959532         L  \n1        2.989225  2.959532  Leakages  \n2        2.991081  2.959532         L  \n3        2.993373  2.959532  Leakages  \n4        2.995481  2.959532         L  ",
      "text/html": "<div>\n<style scoped>\n    .dataframe tbody tr th:only-of-type {\n        vertical-align: middle;\n    }\n\n    .dataframe tbody tr th {\n        vertical-align: top;\n    }\n\n    .dataframe thead th {\n        text-align: right;\n    }\n</style>\n<table border=\"1\" class=\"dataframe\">\n  <thead>\n    <tr style=\"text-align: right;\">\n      <th></th>\n      <th>N total</th>\n      <th>Mean</th>\n      <th>Standard Deviation</th>\n      <th>SE of mean</th>\n      <th>Variance</th>\n      <th>Skewness</th>\n      <th>Kurtosis</th>\n      <th>Coefficient of Variation</th>\n      <th>Mean absolute Deviation</th>\n      <th>Mode</th>\n      <th>Harmonic Mean</th>\n      <th>Median</th>\n      <th>Flowrate</th>\n    </tr>\n  </thead>\n  <tbody>\n    <tr>\n      <th>0</th>\n      <td>40001</td>\n      <td>2.988890</td>\n      <td>0.112882</td>\n      <td>0.000564</td>\n      <td>0.012742</td>\n      <td>2.515207</td>\n      <td>10.459889</td>\n      <td>0.037767</td>\n      <td>0.070676</td>\n      <td>2.959532</td>\n      <td>2.984968</td>\n      <td>2.959532</td>\n      <td>L</td>\n    </tr>\n    <tr>\n      <th>1</th>\n      <td>40001</td>\n      <td>2.992975</td>\n      <td>0.110564</td>\n      <td>0.000553</td>\n      <td>0.012224</td>\n      <td>2.621947</td>\n      <td>10.901485</td>\n      <td>0.036941</td>\n      <td>0.068431</td>\n      <td>2.959532</td>\n      <td>2.989225</td>\n      <td>2.959532</td>\n      <td>Leakages</td>\n    </tr>\n    <tr>\n      <th>2</th>\n      <td>40001</td>\n      <td>2.994869</td>\n      <td>0.111194</td>\n      <td>0.000556</td>\n      <td>0.012364</td>\n      <td>2.622178</td>\n      <td>10.918732</td>\n      <td>0.037128</td>\n      <td>0.068784</td>\n      <td>2.959532</td>\n      <td>2.991081</td>\n      <td>2.959532</td>\n      <td>L</td>\n    </tr>\n    <tr>\n      <th>3</th>\n      <td>40001</td>\n      <td>2.997241</td>\n      <td>0.112246</td>\n      <td>0.000561</td>\n      <td>0.012599</td>\n      <td>2.530313</td>\n      <td>10.554527</td>\n      <td>0.037450</td>\n      <td>0.069928</td>\n      <td>2.959532</td>\n      <td>2.993373</td>\n      <td>2.959532</td>\n      <td>Leakages</td>\n    </tr>\n    <tr>\n      <th>4</th>\n      <td>40001</td>\n      <td>2.999304</td>\n      <td>0.111688</td>\n      <td>0.000558</td>\n      <td>0.012474</td>\n      <td>2.572693</td>\n      <td>10.724008</td>\n      <td>0.037238</td>\n      <td>0.069026</td>\n      <td>2.959532</td>\n      <td>2.995481</td>\n      <td>2.959532</td>\n      <td>L</td>\n    </tr>\n  </tbody>\n</table>\n</div>"
     },
     "execution_count": 56,
     "metadata": {},
     "output_type": "execute_result"
    }
   ],
   "source": [
    "data = pd.read_csv('Features.csv')\n",
    "data.head()"
   ],
   "metadata": {
    "collapsed": false,
    "ExecuteTime": {
     "end_time": "2024-01-05T13:57:13.972059100Z",
     "start_time": "2024-01-05T13:57:13.776250400Z"
    }
   },
   "id": "8e89af8551e0ab39",
   "execution_count": 56
  },
  {
   "cell_type": "code",
   "outputs": [
    {
     "data": {
      "text/plain": "   N total     Mean   Standard Deviation   SE of mean  Variance  Skewness  \\\n0    40001  2.988890             0.112882    0.000564  0.012742  2.515207   \n1    40001  2.992975             0.110564    0.000553  0.012224  2.621947   \n2    40001  2.994869             0.111194    0.000556  0.012364  2.622178   \n3    40001  2.997241             0.112246    0.000561  0.012599  2.530313   \n4    40001  2.999304             0.111688    0.000558  0.012474  2.572693   \n\n    Kurtosis  Coefficient of Variation  Mean absolute Deviation     Mode   \\\n0  10.459889                  0.037767                 0.070676  2.959532   \n1  10.901485                  0.036941                 0.068431  2.959532   \n2  10.918732                  0.037128                 0.068784  2.959532   \n3  10.554527                  0.037450                 0.069928  2.959532   \n4  10.724008                  0.037238                 0.069026  2.959532   \n\n   Harmonic Mean     Median  Flowrate  \n0        2.984968  2.959532         0  \n1        2.989225  2.959532         1  \n2        2.991081  2.959532         0  \n3        2.993373  2.959532         1  \n4        2.995481  2.959532         0  ",
      "text/html": "<div>\n<style scoped>\n    .dataframe tbody tr th:only-of-type {\n        vertical-align: middle;\n    }\n\n    .dataframe tbody tr th {\n        vertical-align: top;\n    }\n\n    .dataframe thead th {\n        text-align: right;\n    }\n</style>\n<table border=\"1\" class=\"dataframe\">\n  <thead>\n    <tr style=\"text-align: right;\">\n      <th></th>\n      <th>N total</th>\n      <th>Mean</th>\n      <th>Standard Deviation</th>\n      <th>SE of mean</th>\n      <th>Variance</th>\n      <th>Skewness</th>\n      <th>Kurtosis</th>\n      <th>Coefficient of Variation</th>\n      <th>Mean absolute Deviation</th>\n      <th>Mode</th>\n      <th>Harmonic Mean</th>\n      <th>Median</th>\n      <th>Flowrate</th>\n    </tr>\n  </thead>\n  <tbody>\n    <tr>\n      <th>0</th>\n      <td>40001</td>\n      <td>2.988890</td>\n      <td>0.112882</td>\n      <td>0.000564</td>\n      <td>0.012742</td>\n      <td>2.515207</td>\n      <td>10.459889</td>\n      <td>0.037767</td>\n      <td>0.070676</td>\n      <td>2.959532</td>\n      <td>2.984968</td>\n      <td>2.959532</td>\n      <td>0</td>\n    </tr>\n    <tr>\n      <th>1</th>\n      <td>40001</td>\n      <td>2.992975</td>\n      <td>0.110564</td>\n      <td>0.000553</td>\n      <td>0.012224</td>\n      <td>2.621947</td>\n      <td>10.901485</td>\n      <td>0.036941</td>\n      <td>0.068431</td>\n      <td>2.959532</td>\n      <td>2.989225</td>\n      <td>2.959532</td>\n      <td>1</td>\n    </tr>\n    <tr>\n      <th>2</th>\n      <td>40001</td>\n      <td>2.994869</td>\n      <td>0.111194</td>\n      <td>0.000556</td>\n      <td>0.012364</td>\n      <td>2.622178</td>\n      <td>10.918732</td>\n      <td>0.037128</td>\n      <td>0.068784</td>\n      <td>2.959532</td>\n      <td>2.991081</td>\n      <td>2.959532</td>\n      <td>0</td>\n    </tr>\n    <tr>\n      <th>3</th>\n      <td>40001</td>\n      <td>2.997241</td>\n      <td>0.112246</td>\n      <td>0.000561</td>\n      <td>0.012599</td>\n      <td>2.530313</td>\n      <td>10.554527</td>\n      <td>0.037450</td>\n      <td>0.069928</td>\n      <td>2.959532</td>\n      <td>2.993373</td>\n      <td>2.959532</td>\n      <td>1</td>\n    </tr>\n    <tr>\n      <th>4</th>\n      <td>40001</td>\n      <td>2.999304</td>\n      <td>0.111688</td>\n      <td>0.000558</td>\n      <td>0.012474</td>\n      <td>2.572693</td>\n      <td>10.724008</td>\n      <td>0.037238</td>\n      <td>0.069026</td>\n      <td>2.959532</td>\n      <td>2.995481</td>\n      <td>2.959532</td>\n      <td>0</td>\n    </tr>\n  </tbody>\n</table>\n</div>"
     },
     "execution_count": 57,
     "metadata": {},
     "output_type": "execute_result"
    }
   ],
   "source": [
    "LabelE  = LabelEncoder()\n",
    "data['Flowrate'] = LabelE.fit_transform(data['Flowrate'])\n",
    "data.head()"
   ],
   "metadata": {
    "collapsed": false,
    "ExecuteTime": {
     "end_time": "2024-01-05T13:57:13.976675200Z",
     "start_time": "2024-01-05T13:57:13.900277Z"
    }
   },
   "id": "2fd08ab2bb13ffec",
   "execution_count": 57
  },
  {
   "cell_type": "code",
   "outputs": [],
   "source": [],
   "metadata": {
    "collapsed": false,
    "ExecuteTime": {
     "end_time": "2024-01-05T13:57:14.053402600Z",
     "start_time": "2024-01-05T13:57:13.984926200Z"
    }
   },
   "id": "c0b421d0e23f4c8",
   "execution_count": 57
  },
  {
   "cell_type": "code",
   "outputs": [
    {
     "data": {
      "text/plain": "array([[1.00000000e+00, 4.00010000e+04, 2.98889022e+00, ...,\n        8.91003233e+00, 8.83410750e+00, 8.75882966e+00],\n       [1.00000000e+00, 4.00010000e+04, 2.99297492e+00, ...,\n        8.93546668e+00, 8.84670733e+00, 8.75882966e+00],\n       [1.00000000e+00, 4.00010000e+04, 2.99486935e+00, ...,\n        8.94656270e+00, 8.85219852e+00, 8.75882966e+00],\n       ...,\n       [1.00000000e+00, 4.00010000e+04, 3.16949005e+00, ...,\n        9.75047013e+00, 9.93082915e+00, 1.01145244e+01],\n       [1.00000000e+00, 4.00010000e+04, 3.16302279e+00, ...,\n        9.70466400e+00, 9.90747497e+00, 1.01145244e+01],\n       [1.00000000e+00, 4.00010000e+04, 3.16265050e+00, ...,\n        9.69110180e+00, 9.90054974e+00, 1.01145244e+01]])"
     },
     "execution_count": 58,
     "metadata": {},
     "output_type": "execute_result"
    }
   ],
   "source": [
    "X = data.iloc[:,:-1]\n",
    "y = data.iloc[:,-1]\n",
    "trans = PolynomialFeatures()\n",
    "X = trans.fit_transform(X)\n",
    "X"
   ],
   "metadata": {
    "collapsed": false,
    "ExecuteTime": {
     "end_time": "2024-01-05T13:57:14.184199400Z",
     "start_time": "2024-01-05T13:57:14.022823400Z"
    }
   },
   "id": "abd446d7e6e8557f",
   "execution_count": 58
  },
  {
   "cell_type": "code",
   "outputs": [],
   "source": [
    "x_train, x_test, y_train, y_test = train_test_split(X, y, test_size=0.2, random_state=0)"
   ],
   "metadata": {
    "collapsed": false,
    "ExecuteTime": {
     "end_time": "2024-01-05T13:57:14.284828500Z",
     "start_time": "2024-01-05T13:57:14.065651300Z"
    }
   },
   "id": "7dd39986b75945ab",
   "execution_count": 59
  },
  {
   "cell_type": "code",
   "outputs": [
    {
     "data": {
      "text/plain": "0.42105263157894735"
     },
     "execution_count": 60,
     "metadata": {},
     "output_type": "execute_result"
    }
   ],
   "source": [
    "tree = DecisionTreeClassifier(criterion='gini')\n",
    "tree.fit(x_train, y_train)\n",
    "pred = tree.predict(x_test)\n",
    "score = accuracy_score(y_test, pred)\n",
    "score"
   ],
   "metadata": {
    "collapsed": false,
    "ExecuteTime": {
     "end_time": "2024-01-05T13:57:14.584925400Z",
     "start_time": "2024-01-05T13:57:14.252305200Z"
    }
   },
   "id": "7a4bfa6104f21c17",
   "execution_count": 60
  },
  {
   "cell_type": "code",
   "outputs": [
    {
     "data": {
      "text/plain": "0.3684210526315789"
     },
     "execution_count": 61,
     "metadata": {},
     "output_type": "execute_result"
    }
   ],
   "source": [
    "RanF = RandomForestClassifier(criterion='gini')\n",
    "RanF.fit(x_train, y_train)\n",
    "pred = RanF.predict(x_test)\n",
    "score = accuracy_score(y_test, pred)\n",
    "score"
   ],
   "metadata": {
    "collapsed": false,
    "ExecuteTime": {
     "end_time": "2024-01-05T13:57:15.103354900Z",
     "start_time": "2024-01-05T13:57:14.482307100Z"
    }
   },
   "id": "816a49e0d6938f30",
   "execution_count": 61
  },
  {
   "cell_type": "code",
   "outputs": [
    {
     "data": {
      "text/plain": "0.3684210526315789"
     },
     "execution_count": 62,
     "metadata": {},
     "output_type": "execute_result"
    }
   ],
   "source": [
    "knn = KNeighborsClassifier(n_neighbors=3)\n",
    "knn.fit(x_train, y_train)\n",
    "pred = knn.predict(x_test)\n",
    "accuracy_score(y_test,pred)"
   ],
   "metadata": {
    "collapsed": false,
    "ExecuteTime": {
     "end_time": "2024-01-05T13:57:15.152246800Z",
     "start_time": "2024-01-05T13:57:15.099840700Z"
    }
   },
   "id": "16f650cb52f6185d",
   "execution_count": 62
  },
  {
   "cell_type": "code",
   "outputs": [
    {
     "data": {
      "text/plain": "    sepal length (cm)  sepal width (cm)  petal length (cm)  petal width (cm)  \\\n0                 5.1               3.5                1.4               0.2   \n1                 4.9               3.0                1.4               0.2   \n2                 4.7               3.2                1.3               0.2   \n3                 4.6               3.1                1.5               0.2   \n4                 5.0               3.6                1.4               0.2   \n..                ...               ...                ...               ...   \n95                5.7               3.0                4.2               1.2   \n96                5.7               2.9                4.2               1.3   \n97                6.2               2.9                4.3               1.3   \n98                5.1               2.5                3.0               1.1   \n99                5.7               2.8                4.1               1.3   \n\n    target  \n0        0  \n1        0  \n2        0  \n3        0  \n4        0  \n..     ...  \n95       1  \n96       1  \n97       1  \n98       1  \n99       1  \n\n[100 rows x 5 columns]",
      "text/html": "<div>\n<style scoped>\n    .dataframe tbody tr th:only-of-type {\n        vertical-align: middle;\n    }\n\n    .dataframe tbody tr th {\n        vertical-align: top;\n    }\n\n    .dataframe thead th {\n        text-align: right;\n    }\n</style>\n<table border=\"1\" class=\"dataframe\">\n  <thead>\n    <tr style=\"text-align: right;\">\n      <th></th>\n      <th>sepal length (cm)</th>\n      <th>sepal width (cm)</th>\n      <th>petal length (cm)</th>\n      <th>petal width (cm)</th>\n      <th>target</th>\n    </tr>\n  </thead>\n  <tbody>\n    <tr>\n      <th>0</th>\n      <td>5.1</td>\n      <td>3.5</td>\n      <td>1.4</td>\n      <td>0.2</td>\n      <td>0</td>\n    </tr>\n    <tr>\n      <th>1</th>\n      <td>4.9</td>\n      <td>3.0</td>\n      <td>1.4</td>\n      <td>0.2</td>\n      <td>0</td>\n    </tr>\n    <tr>\n      <th>2</th>\n      <td>4.7</td>\n      <td>3.2</td>\n      <td>1.3</td>\n      <td>0.2</td>\n      <td>0</td>\n    </tr>\n    <tr>\n      <th>3</th>\n      <td>4.6</td>\n      <td>3.1</td>\n      <td>1.5</td>\n      <td>0.2</td>\n      <td>0</td>\n    </tr>\n    <tr>\n      <th>4</th>\n      <td>5.0</td>\n      <td>3.6</td>\n      <td>1.4</td>\n      <td>0.2</td>\n      <td>0</td>\n    </tr>\n    <tr>\n      <th>...</th>\n      <td>...</td>\n      <td>...</td>\n      <td>...</td>\n      <td>...</td>\n      <td>...</td>\n    </tr>\n    <tr>\n      <th>95</th>\n      <td>5.7</td>\n      <td>3.0</td>\n      <td>4.2</td>\n      <td>1.2</td>\n      <td>1</td>\n    </tr>\n    <tr>\n      <th>96</th>\n      <td>5.7</td>\n      <td>2.9</td>\n      <td>4.2</td>\n      <td>1.3</td>\n      <td>1</td>\n    </tr>\n    <tr>\n      <th>97</th>\n      <td>6.2</td>\n      <td>2.9</td>\n      <td>4.3</td>\n      <td>1.3</td>\n      <td>1</td>\n    </tr>\n    <tr>\n      <th>98</th>\n      <td>5.1</td>\n      <td>2.5</td>\n      <td>3.0</td>\n      <td>1.1</td>\n      <td>1</td>\n    </tr>\n    <tr>\n      <th>99</th>\n      <td>5.7</td>\n      <td>2.8</td>\n      <td>4.1</td>\n      <td>1.3</td>\n      <td>1</td>\n    </tr>\n  </tbody>\n</table>\n<p>100 rows × 5 columns</p>\n</div>"
     },
     "execution_count": 63,
     "metadata": {},
     "output_type": "execute_result"
    }
   ],
   "source": [
    "from sklearn.datasets import load_iris\n",
    "iris = load_iris()\n",
    "data =pd.DataFrame(iris.data, columns=iris.feature_names)\n",
    "data['target'] = iris.target\n",
    "data.head(100)\n"
   ],
   "metadata": {
    "collapsed": false,
    "ExecuteTime": {
     "end_time": "2024-01-05T13:57:15.221924800Z",
     "start_time": "2024-01-05T13:57:15.123719300Z"
    }
   },
   "id": "faedbbd432cf4b53",
   "execution_count": 63
  }
 ],
 "metadata": {
  "kernelspec": {
   "display_name": "Python 3",
   "language": "python",
   "name": "python3"
  },
  "language_info": {
   "codemirror_mode": {
    "name": "ipython",
    "version": 2
   },
   "file_extension": ".py",
   "mimetype": "text/x-python",
   "name": "python",
   "nbconvert_exporter": "python",
   "pygments_lexer": "ipython2",
   "version": "2.7.6"
  }
 },
 "nbformat": 4,
 "nbformat_minor": 5
}
