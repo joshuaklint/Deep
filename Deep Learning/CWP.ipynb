{
 "cells": [
  {
   "cell_type": "code",
   "execution_count": 16,
   "id": "initial_id",
   "metadata": {
    "collapsed": true,
    "ExecuteTime": {
     "end_time": "2024-01-09T17:06:31.729658600Z",
     "start_time": "2024-01-09T17:06:31.707397300Z"
    }
   },
   "outputs": [],
   "source": [
    "import numpy as np\n",
    "\n",
    "def  sigmoid(z):\n",
    "    \n",
    "    s = 1 / (1 + np.exp(-z))\n",
    "    return  s"
   ]
  },
  {
   "cell_type": "code",
   "outputs": [],
   "source": [],
   "metadata": {
    "collapsed": false
   },
   "id": "f07e60b907e2fe68"
  },
  {
   "cell_type": "code",
   "outputs": [],
   "source": [
    "def propagate(w,X,b,Y):\n",
    "    m = X.shape[1]\n",
    "    \n",
    "    z = np.dot(w.T, X) + b\n",
    "    A = sigmoid(z)\n",
    "    cost = -1 / m * np.sum(Y * np.log(A) + (1 - Y) * np.log(1-A))\n",
    "    cost = np.squeeze(np.array(cost))\n",
    "    \n",
    "    dw = 1 / m * np.dot( X , (A - Y).T)\n",
    "    db = 1 / m * np.sum(A-Y)\n",
    "    \n",
    "    grad = {\n",
    "        'dw': dw,\n",
    "        'db': db\n",
    "    }\n",
    "    \n",
    "    return grad, cost"
   ],
   "metadata": {
    "collapsed": false,
    "ExecuteTime": {
     "end_time": "2024-01-09T17:06:31.839558400Z",
     "start_time": "2024-01-09T17:06:31.739767500Z"
    }
   },
   "id": "66318cd1fc3e7bab",
   "execution_count": 17
  },
  {
   "cell_type": "code",
   "outputs": [
    {
     "name": "stdout",
     "output_type": "stream",
     "text": [
      "{'dw': array([[ 0.25071532],\n",
      "       [-0.06604096]]), 'db': -0.1250040450043965} 0.15900537707692405\n"
     ]
    }
   ],
   "source": [
    "w =  np.array([[1.], [2]])\n",
    "b = 1.5\n",
    "X = np.array([[1., -2., -1.], [3., 0.5, -3.2]])\n",
    "Y = np.array([[1, 1, 0]])\n",
    "m = X.shape[0]\n",
    "b = 1.5\n",
    "grad, cost = propagate(w,X,b,Y)\n",
    "print(grad, cost)"
   ],
   "metadata": {
    "collapsed": false,
    "ExecuteTime": {
     "end_time": "2024-01-09T17:06:31.884006200Z",
     "start_time": "2024-01-09T17:06:31.850123200Z"
    }
   },
   "id": "1e10fbd1a074810c",
   "execution_count": 18
  },
  {
   "cell_type": "code",
   "outputs": [],
   "source": [
    "def buildmodel(w,b,rate, X, Y, iterate):\n",
    "    m = X.shape[1]\n",
    "    for i in range(iterate):\n",
    "        s = np.dot(w.T, X) + b\n",
    "        \n",
    "        A  =  1 / (1 + np.exp(-s))\n",
    "        \n",
    "        cost = -1 / m * np.sum(Y * np.log(A) + (1 - Y) * np.log(1-A))\n",
    "        \n",
    "        \n",
    "        dw = 1 / m * np.dot( X , (A - Y).T)\n",
    "        db = 1 / m * np.sum(A-Y)\n",
    "    \n",
    "   \n",
    "        w = w - rate*dw\n",
    "        b = b - rate*db\n",
    "\n",
    "    return cost, dw, db , w, b\n",
    "    "
   ],
   "metadata": {
    "collapsed": false,
    "ExecuteTime": {
     "end_time": "2024-01-09T17:07:53.025351600Z",
     "start_time": "2024-01-09T17:07:53.015674500Z"
    }
   },
   "id": "e0126a9da6cc3e0",
   "execution_count": 24
  },
  {
   "cell_type": "code",
   "outputs": [
    {
     "ename": "AttributeError",
     "evalue": "'numpy.float64' object has no attribute 'append'",
     "output_type": "error",
     "traceback": [
      "\u001B[1;31m---------------------------------------------------------------------------\u001B[0m",
      "\u001B[1;31mAttributeError\u001B[0m                            Traceback (most recent call last)",
      "Cell \u001B[1;32mIn[23], line 8\u001B[0m\n\u001B[0;32m      5\u001B[0m rate \u001B[38;5;241m=\u001B[39m \u001B[38;5;241m0.009\u001B[39m\n\u001B[0;32m      6\u001B[0m iterate \u001B[38;5;241m=\u001B[39m \u001B[38;5;241m100\u001B[39m\n\u001B[1;32m----> 8\u001B[0m cost, dw, db, w, b \u001B[38;5;241m=\u001B[39m \u001B[43mbuildmodel\u001B[49m\u001B[43m(\u001B[49m\u001B[43mw\u001B[49m\u001B[43m,\u001B[49m\u001B[43mb\u001B[49m\u001B[43m,\u001B[49m\u001B[43m \u001B[49m\u001B[43mrate\u001B[49m\u001B[43m,\u001B[49m\u001B[43m \u001B[49m\u001B[43mX\u001B[49m\u001B[43m,\u001B[49m\u001B[43m \u001B[49m\u001B[43mY\u001B[49m\u001B[43m,\u001B[49m\u001B[43m \u001B[49m\u001B[43miterate\u001B[49m\u001B[43m)\u001B[49m\n\u001B[0;32m      9\u001B[0m \u001B[38;5;28mprint\u001B[39m(\u001B[38;5;124m'\u001B[39m\u001B[38;5;124mcost\u001B[39m\u001B[38;5;124m'\u001B[39m,cost, \u001B[38;5;124m'\u001B[39m\u001B[38;5;124mdw: \u001B[39m\u001B[38;5;124m'\u001B[39m, dw, \u001B[38;5;124m'\u001B[39m\u001B[38;5;124mdb: \u001B[39m\u001B[38;5;124m'\u001B[39m, db,\u001B[38;5;124m'\u001B[39m\u001B[38;5;124mw: \u001B[39m\u001B[38;5;124m'\u001B[39m, w,\u001B[38;5;124m'\u001B[39m\u001B[38;5;124mb: \u001B[39m\u001B[38;5;124m'\u001B[39m, b)\n",
      "Cell \u001B[1;32mIn[22], line 18\u001B[0m, in \u001B[0;36mbuildmodel\u001B[1;34m(w, b, rate, X, Y, iterate)\u001B[0m\n\u001B[0;32m     16\u001B[0m     w \u001B[38;5;241m=\u001B[39m w \u001B[38;5;241m-\u001B[39m rate\u001B[38;5;241m*\u001B[39mdw\n\u001B[0;32m     17\u001B[0m     b \u001B[38;5;241m=\u001B[39m b \u001B[38;5;241m-\u001B[39m rate\u001B[38;5;241m*\u001B[39mdb\n\u001B[1;32m---> 18\u001B[0m     cost \u001B[38;5;241m=\u001B[39m \u001B[43mcost\u001B[49m\u001B[38;5;241;43m.\u001B[39;49m\u001B[43mappend\u001B[49m[cost]\n\u001B[0;32m     20\u001B[0m \u001B[38;5;28;01mreturn\u001B[39;00m cost, dw, db , w, b\n",
      "\u001B[1;31mAttributeError\u001B[0m: 'numpy.float64' object has no attribute 'append'"
     ]
    }
   ],
   "source": [
    "w =  np.array([[1.0],[2]])\n",
    "X = np.array([[1., -2., -1.], [3., 0.5, -3.2]])\n",
    "Y = np.array([1,1,0])\n",
    "b = 1.5\n",
    "rate = 0.009\n",
    "iterate = 100\n",
    "\n",
    "cost, dw, db, w, b = buildmodel(w,b, rate, X, Y, iterate)\n",
    "print('cost',cost, 'dw: ', dw, 'db: ', db,'w: ', w,'b: ', b)"
   ],
   "metadata": {
    "collapsed": false,
    "ExecuteTime": {
     "end_time": "2024-01-09T17:07:39.598125Z",
     "start_time": "2024-01-09T17:07:39.457414100Z"
    }
   },
   "id": "ba6238f4019464d7",
   "execution_count": 23
  },
  {
   "cell_type": "code",
   "outputs": [
    {
     "data": {
      "text/plain": "2"
     },
     "execution_count": 21,
     "metadata": {},
     "output_type": "execute_result"
    }
   ],
   "source": [
    "X.shape[0]"
   ],
   "metadata": {
    "collapsed": false,
    "ExecuteTime": {
     "end_time": "2024-01-09T17:06:32.011371700Z",
     "start_time": "2024-01-09T17:06:31.997285700Z"
    }
   },
   "id": "bebe0d406f022c39",
   "execution_count": 21
  }
 ],
 "metadata": {
  "kernelspec": {
   "display_name": "Python 3",
   "language": "python",
   "name": "python3"
  },
  "language_info": {
   "codemirror_mode": {
    "name": "ipython",
    "version": 2
   },
   "file_extension": ".py",
   "mimetype": "text/x-python",
   "name": "python",
   "nbconvert_exporter": "python",
   "pygments_lexer": "ipython2",
   "version": "2.7.6"
  }
 },
 "nbformat": 4,
 "nbformat_minor": 5
}
