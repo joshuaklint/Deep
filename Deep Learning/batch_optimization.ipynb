{
 "cells": [
  {
   "metadata": {
    "ExecuteTime": {
     "end_time": "2024-06-22T03:09:49.598486Z",
     "start_time": "2024-06-22T03:09:47.203785Z"
    }
   },
   "cell_type": "code",
   "source": [
    "import numpy as np\n",
    "import math\n",
    "from optimization_def import load_data"
   ],
   "id": "46f7d5fead28df5e",
   "outputs": [],
   "execution_count": 1
  },
  {
   "metadata": {
    "ExecuteTime": {
     "end_time": "2024-06-22T03:09:49.616611Z",
     "start_time": "2024-06-22T03:09:49.601061Z"
    }
   },
   "cell_type": "code",
   "source": [
    "def mini_batches(x, y, mini_batch_size):\n",
    "    mini_batch = []\n",
    "    \n",
    "    m = x.shape[1]\n",
    "    shuffled = list(np.random.permutation(m))\n",
    "    x_shuffled = x[:, shuffled]\n",
    "    y_shuffled = y[:, shuffled].reshape((1,m))\n",
    "    \n",
    "    num_complete_batches = math.floor(m/mini_batch_size)\n",
    "    \n",
    "    for k in range(0, num_complete_batches):\n",
    "        mini_batchX = x_shuffled[:, k*mini_batch_size:(k+1)*mini_batch_size]\n",
    "        mini_batchY = y_shuffled[:, k*mini_batch_size:(k+1)*mini_batch_size]\n",
    "        batches = (mini_batchX, mini_batchY)\n",
    "        mini_batch.append(batches)\n",
    "    \n",
    "    if m % mini_batch_size != 0:\n",
    "        mini_batchX = x_shuffled[:, int(m//mini_batch_size) * mini_batch_size:]\n",
    "        mini_batchY = y_shuffled[:, int(m//mini_batch_size) * mini_batch_size:]\n",
    "        batches = (mini_batchX, mini_batchY)\n",
    "        mini_batch.append(batches)\n",
    "    return mini_batch"
   ],
   "id": "d90981326fb80676",
   "outputs": [],
   "execution_count": 2
  },
  {
   "cell_type": "code",
   "id": "initial_id",
   "metadata": {
    "collapsed": true,
    "ExecuteTime": {
     "end_time": "2024-06-22T03:10:04.331913Z",
     "start_time": "2024-06-22T03:09:49.619134Z"
    }
   },
   "source": [
    "path = 'C:/Users/Dell/Desktop/train/Train'\n",
    "train_x, train_y, test_x, test_y = load_data(path)\n",
    "print(train_x.shape, train_y.shape, test_x.shape, test_y.shape)"
   ],
   "outputs": [
    {
     "name": "stdout",
     "output_type": "stream",
     "text": [
      "(12288, 445) (1, 445) (12288, 112) (1, 112)\n"
     ]
    }
   ],
   "execution_count": 3
  },
  {
   "metadata": {
    "ExecuteTime": {
     "end_time": "2024-06-22T03:10:04.351654Z",
     "start_time": "2024-06-22T03:10:04.336536Z"
    }
   },
   "cell_type": "code",
   "source": [
    "batch = mini_batches(train_x, train_y, 64)\n",
    "for count, (batchX, batchY) in enumerate(batch):\n",
    "     print(count, ': X shape', batchX.shape,': Y shape', batchY.shape)\n"
   ],
   "id": "bf9e478168d36fd",
   "outputs": [
    {
     "name": "stdout",
     "output_type": "stream",
     "text": [
      "0 : X shape (12288, 64) : Y shape (1, 64)\n",
      "1 : X shape (12288, 64) : Y shape (1, 64)\n",
      "2 : X shape (12288, 64) : Y shape (1, 64)\n",
      "3 : X shape (12288, 64) : Y shape (1, 64)\n",
      "4 : X shape (12288, 64) : Y shape (1, 64)\n",
      "5 : X shape (12288, 64) : Y shape (1, 64)\n",
      "6 : X shape (12288, 61) : Y shape (1, 61)\n"
     ]
    }
   ],
   "execution_count": 4
  }
 ],
 "metadata": {
  "kernelspec": {
   "display_name": "Python 3",
   "language": "python",
   "name": "python3"
  },
  "language_info": {
   "codemirror_mode": {
    "name": "ipython",
    "version": 2
   },
   "file_extension": ".py",
   "mimetype": "text/x-python",
   "name": "python",
   "nbconvert_exporter": "python",
   "pygments_lexer": "ipython2",
   "version": "2.7.6"
  }
 },
 "nbformat": 4,
 "nbformat_minor": 5
}
