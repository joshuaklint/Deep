{
 "cells": [
  {
   "cell_type": "code",
   "source": [
    "import numpy as np\n",
    "from Regularization import *\n",
    "from Model import *\n",
    "from sklearn.model_selection import train_test_split\n",
    "from sklearn.datasets import load_breast_cancer\n",
    "breast = load_breast_cancer(return_X_y=True)\n",
    "import matplotlib.pyplot as plt\n",
    "from sklearn.preprocessing import StandardScaler\n",
    "scaler = StandardScaler()\n",
    "\n",
    "X,y = breast\n",
    "X_train, X_test, y_train, y_test = train_test_split(X, y, test_size=0.2)\n",
    "\n",
    "X_train = X_train.reshape(X_train.shape[0], X_train.shape[1]).T\n",
    "X_test = X_test.reshape(X_test.shape[0], X_test.shape[1]).T\n",
    "y_train = y_train.reshape(y_train.shape[0], -1).T\n",
    "y_test = y_test.reshape(y_test.shape[0], -1).T\n",
    "print(X_train.shape)\n",
    "print(y_train.shape)\n",
    "print(X_test.shape)\n",
    "print(y_test.shape)\n"
   ],
   "metadata": {
    "collapsed": false,
    "ExecuteTime": {
     "end_time": "2024-05-17T04:59:13.108733Z",
     "start_time": "2024-05-17T04:59:13.072302Z"
    }
   },
   "id": "b61e0cb2ea64a83f",
   "outputs": [
    {
     "name": "stdout",
     "output_type": "stream",
     "text": [
      "(30, 455)\n",
      "(1, 455)\n",
      "(30, 114)\n",
      "(1, 114)\n"
     ]
    }
   ],
   "execution_count": 8
  },
  {
   "metadata": {
    "ExecuteTime": {
     "end_time": "2024-05-17T04:59:13.118128Z",
     "start_time": "2024-05-17T04:59:13.108733Z"
    }
   },
   "cell_type": "code",
   "source": [
    "'''all = model(X_train, y_train, num_iterations=25000, print_cost=True)\n",
    "plt.plot(all['iter'], all['cost'], all['iter'],all['accuracy'])\n",
    "plt.xlabel(\"Epoch\")\n",
    "plt.ylabel(\"Loss\")\n",
    "plt.title(\"Training: Loss vs Accuracy\")\n",
    "plt.imshow'''"
   ],
   "id": "c61301fc339ae3a8",
   "outputs": [
    {
     "data": {
      "text/plain": [
       "'all = model(X_train, y_train, num_iterations=25000, print_cost=True)\\nplt.plot(all[\\'iter\\'], all[\\'cost\\'], all[\\'iter\\'],all[\\'accuracy\\'])\\nplt.xlabel(\"Epoch\")\\nplt.ylabel(\"Loss\")\\nplt.title(\"Training: Loss vs Accuracy\")\\nplt.imshow'"
      ]
     },
     "execution_count": 9,
     "metadata": {},
     "output_type": "execute_result"
    }
   ],
   "execution_count": 9
  },
  {
   "metadata": {
    "ExecuteTime": {
     "end_time": "2024-05-17T04:59:13.152933Z",
     "start_time": "2024-05-17T04:59:13.142788Z"
    }
   },
   "cell_type": "code",
   "source": "",
   "id": "e1d0796d1633abe7",
   "outputs": [],
   "execution_count": 9
  },
  {
   "metadata": {
    "ExecuteTime": {
     "end_time": "2024-05-17T04:59:13.157491Z",
     "start_time": "2024-05-17T04:59:13.152933Z"
    }
   },
   "cell_type": "code",
   "source": "",
   "id": "5c8acca1f14ed4",
   "outputs": [],
   "execution_count": 9
  },
  {
   "metadata": {
    "ExecuteTime": {
     "end_time": "2024-05-17T04:59:13.163493Z",
     "start_time": "2024-05-17T04:59:13.158498Z"
    }
   },
   "cell_type": "code",
   "source": "",
   "id": "75bd15e48cfcb7c0",
   "outputs": [],
   "execution_count": 9
  }
 ],
 "metadata": {
  "kernelspec": {
   "display_name": "Python 3",
   "language": "python",
   "name": "python3"
  },
  "language_info": {
   "codemirror_mode": {
    "name": "ipython",
    "version": 2
   },
   "file_extension": ".py",
   "mimetype": "text/x-python",
   "name": "python",
   "nbconvert_exporter": "python",
   "pygments_lexer": "ipython2",
   "version": "2.7.6"
  }
 },
 "nbformat": 4,
 "nbformat_minor": 5
}
