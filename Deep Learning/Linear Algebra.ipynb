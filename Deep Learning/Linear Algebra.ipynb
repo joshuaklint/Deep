{
 "cells": [
  {
   "cell_type": "code",
   "source": [
    "import copy\n",
    "import matplotlib.pyplot as plt\n",
    "import numpy as np"
   ],
   "metadata": {
    "collapsed": false,
    "ExecuteTime": {
     "end_time": "2024-05-26T00:10:11.197651Z",
     "start_time": "2024-05-26T00:10:11.189321Z"
    }
   },
   "id": "4fe8c470237b50da",
   "outputs": [],
   "execution_count": 37
  },
  {
   "cell_type": "code",
   "source": [
    "A = np.array([     \n",
    "        [2, -1, 1, 1],\n",
    "        [1, 2,-1, -1],\n",
    "        [-1, 2, 2, 2],\n",
    "        [ 1,-1, 2, 1]    \n",
    "    ], dtype=np.dtype(float)) \n",
    "b = np.array([6, 3, 14, 8], dtype=np.dtype(float))"
   ],
   "metadata": {
    "collapsed": true,
    "ExecuteTime": {
     "end_time": "2024-05-26T00:10:11.207990Z",
     "start_time": "2024-05-26T00:10:11.197651Z"
    }
   },
   "id": "initial_id",
   "outputs": [],
   "execution_count": 38
  },
  {
   "cell_type": "code",
   "source": [
    "def augmented_to_ref(A, b):    \n",
    "    ### START CODE HERE ###\n",
    "    # stack horizontally matrix A and vector b, which needs to be reshaped as a vector (4, 1)\n",
    "    A_system = np.hstack((A, b.reshape(4,1)))\n",
    "    \n",
    "    A_ref = A_system.copy()\n",
    "    # swap row 0 and row 1 of matrix A_system (remember that indexing in NumPy array starts from 0)\n",
    "    A_ref[0], A_ref[1] = A_ref[1], A_ref[0] \n",
    "    \n",
    "    # multiply row 0 of the new matrix A_ref by -2 and add it to the row 1\n",
    "    A_ref[1] = -2* A_ref[0] + A_ref[1] \n",
    "    \n",
    "    # add row 0 of the new matrix A_ref to the row 2, replacing row 2\n",
    "    A_ref[2] = A_ref[0] + A_ref[2]\n",
    "    \n",
    "    # multiply row 0 of the new matrix A_ref by -1 and add it to the row 3\n",
    "    A_ref[3] = -1 * A_ref[0] + A_ref[3]\n",
    "    \n",
    "    # add row 2 of the new matrix A_ref to the row 3, replacing row 3\n",
    "    A_ref[3] = A_ref[2] + A_ref[3]\n",
    "    \n",
    "    # swap row 1 and 3 of the new matrix A_ref\n",
    "    A_ref[1], A_ref[3] = A_ref[3], A_ref[1]\n",
    "    \n",
    "    # add row 2 of the new matrix A_ref to the row 3, replacing row 3\n",
    "    A_ref[3] = A_ref[2] + A_ref[3] \n",
    "    \n",
    "    # multiply row 1 of the new matrix A_ref by -4 and add it to the row 2\n",
    "    A_ref[2] = -4*A_ref[1] + A_ref[2]\n",
    "    \n",
    "    # add row 1 of the new matrix A_ref to the row 3, replacing row 3\n",
    "    A_ref[3] = A_ref[1] + A_ref[3]\n",
    "    \n",
    "    # multiply row 3 of the new matrix A_ref by 2 and add it to the row 2\n",
    "    A_ref[2] =  2* A_ref[3] + A_ref[2]\n",
    "    \n",
    "    # multiply row 2 of the new matrix A_ref by -8 and add it to the row 3\n",
    "#   A_ref[3] = -8*A_ref[2] + A_ref[3]\n",
    "    \n",
    "    # multiply row 3 of the new matrix A_ref by -1/17\n",
    "#    A_ref[3] = -1/17 * A_ref[3]\n",
    "    ### END CODE HERE ###\n",
    "    \n",
    "    return A_ref\n",
    "\n",
    "A_ref = augmented_to_ref(A, b)\n",
    "\n",
    "print(A_ref)"
   ],
   "metadata": {
    "collapsed": false,
    "ExecuteTime": {
     "end_time": "2024-05-26T00:10:11.218734Z",
     "start_time": "2024-05-26T00:10:11.207990Z"
    }
   },
   "id": "9f262970e5b81e95",
   "outputs": [
    {
     "name": "stdout",
     "output_type": "stream",
     "text": [
      "[[ 1.  2. -1. -1.  3.]\n",
      " [ 0.  1.  4.  3. 22.]\n",
      " [ 0. 12.  3.  3. 51.]\n",
      " [ 0.  6.  9.  7. 61.]]\n"
     ]
    }
   ],
   "execution_count": 39
  },
  {
   "cell_type": "code",
   "source": [
    "ori = [1,2,3,4,[5,6],7]\n",
    "sha = copy.copy(ori)\n",
    "dee = copy.deepcopy(ori)\n",
    "print(ori)\n",
    "print(sha)\n",
    "print(dee)"
   ],
   "metadata": {
    "collapsed": false,
    "ExecuteTime": {
     "end_time": "2024-05-26T00:10:11.229724Z",
     "start_time": "2024-05-26T00:10:11.218734Z"
    }
   },
   "id": "2e5108f5703aea0b",
   "outputs": [
    {
     "name": "stdout",
     "output_type": "stream",
     "text": [
      "[1, 2, 3, 4, [5, 6], 7]\n",
      "[1, 2, 3, 4, [5, 6], 7]\n",
      "[1, 2, 3, 4, [5, 6], 7]\n"
     ]
    }
   ],
   "execution_count": 40
  },
  {
   "cell_type": "code",
   "source": [
    "ori[2] = 10\n",
    "print(ori)\n",
    "print(sha)\n",
    "print(dee)"
   ],
   "metadata": {
    "collapsed": false,
    "ExecuteTime": {
     "end_time": "2024-05-26T00:10:11.240460Z",
     "start_time": "2024-05-26T00:10:11.229724Z"
    }
   },
   "id": "3cdef966831e588c",
   "outputs": [
    {
     "name": "stdout",
     "output_type": "stream",
     "text": [
      "[1, 2, 10, 4, [5, 6], 7]\n",
      "[1, 2, 3, 4, [5, 6], 7]\n",
      "[1, 2, 3, 4, [5, 6], 7]\n"
     ]
    }
   ],
   "execution_count": 41
  },
  {
   "cell_type": "code",
   "source": [
    "w1 = np.array([[ 7.7875534 ,  7.99703637],\n",
    "         [ 7.57723684, -8.43113562],\n",
    "         [ 6.49492033,  2.8117102 ],\n",
    "         [ 9.14944707, -2.67920217],\n",
    "         [-0.17012221,  9.35646387]])\n",
    "b1 =np.array([[-0.03976475],\n",
    "         [ 0.05653709],\n",
    "         [-0.33272316],\n",
    "         [ 0.23410297],\n",
    "         [ 0.06653469]])\n",
    "\n",
    "w2 =  np.array([-8.6697934 ,  9.38368566,  3.88897654, -3.50740181, 10.19257937])\n",
    "\n",
    "b2 = np.array([-0.01902426])\n",
    "\n",
    "inputt = np.array([[ 1.62434536, -0.61175641, -0.52817175],\n",
    "        [-1.07296862,  0.86540763, -2.3015387 ]])\n",
    "\n",
    "\n",
    "\n",
    "z1=  np.dot(w1, inputt ) + b1\n",
    "\n",
    "A1 = np.tanh(z1)\n",
    "\n",
    "z2 = np.dot(w2,A1) + b2\n",
    "\n",
    "A2 = 1 / (1 + np.exp(-z2))\n",
    "\n",
    "A2"
   ],
   "metadata": {
    "collapsed": false,
    "ExecuteTime": {
     "end_time": "2024-05-26T00:10:11.253158Z",
     "start_time": "2024-05-26T00:10:11.240460Z"
    }
   },
   "id": "415b12645cb6c57c",
   "outputs": [
    {
     "data": {
      "text/plain": [
       "array([1.10469852e-04, 3.95806239e-04, 6.76490251e-01])"
      ]
     },
     "execution_count": 42,
     "metadata": {},
     "output_type": "execute_result"
    }
   ],
   "execution_count": 42
  },
  {
   "metadata": {
    "ExecuteTime": {
     "end_time": "2024-05-26T00:10:11.262950Z",
     "start_time": "2024-05-26T00:10:11.253158Z"
    }
   },
   "cell_type": "code",
   "source": [
    "import math\n",
    "a  = np.arange(1,61).reshape(3,20)\n",
    "m = a.shape[1]\n",
    "b = np.random.permutation(m)\n",
    "shuffled = a[:,b]\n",
    "print(a)\n",
    "batch = 3\n",
    "num_batch = math.floor(m/batch)\n",
    "print(num_batch)"
   ],
   "id": "9a17818cbd4152a0",
   "outputs": [
    {
     "name": "stdout",
     "output_type": "stream",
     "text": [
      "[[ 1  2  3  4  5  6  7  8  9 10 11 12 13 14 15 16 17 18 19 20]\n",
      " [21 22 23 24 25 26 27 28 29 30 31 32 33 34 35 36 37 38 39 40]\n",
      " [41 42 43 44 45 46 47 48 49 50 51 52 53 54 55 56 57 58 59 60]]\n",
      "6\n"
     ]
    }
   ],
   "execution_count": 43
  },
  {
   "metadata": {
    "ExecuteTime": {
     "end_time": "2024-05-26T00:11:20.273203Z",
     "start_time": "2024-05-26T00:11:20.258559Z"
    }
   },
   "cell_type": "code",
   "source": [
    "mini_batch = []\n",
    "for i in range(0, num_batch):\n",
    "    mini_batchX = shuffled[:, i*batch:(i+1)*batch]\n",
    "    mini_batch.append(mini_batchX)\n",
    "if m%batch != 0:\n",
    "    mini_batchX = shuffled[:, int(m/batch)*batch:]\n",
    "    mini_batch.append(mini_batchX)\n",
    "print(mini_batch)\n",
    "for i in range(0,len(mini_batch)):\n",
    "    print(mini_batch[i].shape)\n",
    "    "
   ],
   "id": "ac72a7d908bc3569",
   "outputs": [
    {
     "name": "stdout",
     "output_type": "stream",
     "text": [
      "[array([[18, 11, 13],\n",
      "       [38, 31, 33],\n",
      "       [58, 51, 53]]), array([[10, 20, 19],\n",
      "       [30, 40, 39],\n",
      "       [50, 60, 59]]), array([[ 9,  1,  6],\n",
      "       [29, 21, 26],\n",
      "       [49, 41, 46]]), array([[12, 16,  8],\n",
      "       [32, 36, 28],\n",
      "       [52, 56, 48]]), array([[ 7,  4, 14],\n",
      "       [27, 24, 34],\n",
      "       [47, 44, 54]]), array([[ 3, 17,  2],\n",
      "       [23, 37, 22],\n",
      "       [43, 57, 42]]), array([[ 5, 15],\n",
      "       [25, 35],\n",
      "       [45, 55]])]\n",
      "(3, 3)\n",
      "(3, 3)\n",
      "(3, 3)\n",
      "(3, 3)\n",
      "(3, 3)\n",
      "(3, 3)\n",
      "(3, 2)\n"
     ]
    }
   ],
   "execution_count": 45
  },
  {
   "metadata": {
    "ExecuteTime": {
     "end_time": "2024-05-26T08:50:25.247488Z",
     "start_time": "2024-05-26T08:50:25.231342Z"
    }
   },
   "cell_type": "code",
   "source": [
    "l = [1,2,4,5]\n",
    "for i in range(len(l)):\n",
    "    print(i)"
   ],
   "id": "4dc66fdb1793db33",
   "outputs": [
    {
     "name": "stdout",
     "output_type": "stream",
     "text": [
      "0\n",
      "1\n",
      "2\n",
      "3\n"
     ]
    }
   ],
   "execution_count": 47
  }
 ],
 "metadata": {
  "kernelspec": {
   "display_name": "Python 3",
   "language": "python",
   "name": "python3"
  },
  "language_info": {
   "codemirror_mode": {
    "name": "ipython",
    "version": 2
   },
   "file_extension": ".py",
   "mimetype": "text/x-python",
   "name": "python",
   "nbconvert_exporter": "python",
   "pygments_lexer": "ipython2",
   "version": "2.7.6"
  }
 },
 "nbformat": 4,
 "nbformat_minor": 5
}
