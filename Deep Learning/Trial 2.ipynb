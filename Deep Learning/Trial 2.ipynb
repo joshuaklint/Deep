{
 "cells": [
  {
   "cell_type": "code",
   "id": "initial_id",
   "metadata": {
    "collapsed": true,
    "ExecuteTime": {
     "end_time": "2024-04-30T04:45:20.664875Z",
     "start_time": "2024-04-30T04:45:20.426901Z"
    }
   },
   "source": [
    "import numpy as np\n",
    "\n",
    "w1 = np.random.randn(5,2)\n",
    "w2 = np.random.randn(2,5)\n",
    "\n",
    "print(w1)\n",
    "print(w2)"
   ],
   "outputs": [
    {
     "name": "stdout",
     "output_type": "stream",
     "text": [
      "[[-1.04149372 -0.9792652 ]\n",
      " [-0.63824462  0.01590575]\n",
      " [ 0.94171721  0.39644919]\n",
      " [-0.58437126 -0.54827689]\n",
      " [ 1.43615319 -1.35263082]]\n",
      "[[-1.30620053 -2.39694748  0.22377064 -0.29426649 -0.04960433]\n",
      " [ 1.9125055   0.43875692 -0.44282038  1.0763097   1.52367781]]\n"
     ]
    }
   ],
   "execution_count": 1
  },
  {
   "cell_type": "code",
   "source": [
    "Sum_w1 = np.sum(np.square(w1))\n",
    "Sum_w2 = np.sum(np.square(w2))\n",
    "print(Sum_w1,Sum_w2)"
   ],
   "metadata": {
    "collapsed": false,
    "ExecuteTime": {
     "end_time": "2024-04-30T04:45:20.677115Z",
     "start_time": "2024-04-30T04:45:20.667391Z"
    }
   },
   "id": "38637451444d96d4",
   "outputs": [
    {
     "name": "stdout",
     "output_type": "stream",
     "text": [
      "8.029525374143931 15.116955172503388\n"
     ]
    }
   ],
   "execution_count": 2
  },
  {
   "cell_type": "code",
   "source": [
    "b = np.random.randn(2,2)\n",
    "print(b)\n",
    "np.sum(np.square(b))"
   ],
   "metadata": {
    "collapsed": false,
    "ExecuteTime": {
     "end_time": "2024-04-30T04:45:20.702722Z",
     "start_time": "2024-04-30T04:45:20.679271Z"
    }
   },
   "id": "897bf0ac7e03a57c",
   "outputs": [
    {
     "name": "stdout",
     "output_type": "stream",
     "text": [
      "[[ 1.0879087   1.74468319]\n",
      " [ 1.08525556 -1.20602727]]\n"
     ]
    },
    {
     "data": {
      "text/plain": [
       "6.859746164420258"
      ]
     },
     "execution_count": 3,
     "metadata": {},
     "output_type": "execute_result"
    }
   ],
   "execution_count": 3
  },
  {
   "metadata": {
    "ExecuteTime": {
     "end_time": "2024-04-30T04:45:20.718883Z",
     "start_time": "2024-04-30T04:45:20.706817Z"
    }
   },
   "cell_type": "code",
   "source": [
    "A = np.array([[1,2,3],[4,5,6],[7,8,9]])\n",
    "keep_prob = 0.8\n",
    "A_WNP = np.mean(A)\n",
    "d = np.random.random((A.shape[0],A.shape[1]))<keep_prob\n",
    "A_N = A*d\n",
    "A_WD = np.mean(A_N)\n",
    "A_I = A_N/keep_prob\n",
    "A_ID = np.mean(A_I)\n",
    "print(A_N)\n",
    "print(A_I)"
   ],
   "id": "ca656eff965e0937",
   "outputs": [
    {
     "name": "stdout",
     "output_type": "stream",
     "text": [
      "[[1 2 3]\n",
      " [4 5 6]\n",
      " [7 8 9]]\n",
      "[[ 1.25  2.5   3.75]\n",
      " [ 5.    6.25  7.5 ]\n",
      " [ 8.75 10.   11.25]]\n"
     ]
    }
   ],
   "execution_count": 4
  },
  {
   "metadata": {
    "ExecuteTime": {
     "end_time": "2024-04-30T04:45:20.732379Z",
     "start_time": "2024-04-30T04:45:20.723959Z"
    }
   },
   "cell_type": "code",
   "source": [
    "print(A_WNP)\n",
    "print(A_WD)\n",
    "print(A_ID)"
   ],
   "id": "ca48529a0fbc2ee3",
   "outputs": [
    {
     "name": "stdout",
     "output_type": "stream",
     "text": [
      "5.0\n",
      "5.0\n",
      "6.25\n"
     ]
    }
   ],
   "execution_count": 5
  },
  {
   "metadata": {
    "ExecuteTime": {
     "end_time": "2024-04-30T04:45:20.747306Z",
     "start_time": "2024-04-30T04:45:20.734739Z"
    }
   },
   "cell_type": "code",
   "source": [
    "x = np.array([1,2,0,-1,2,0,1])\n",
    "np.where(x<=0,0,1)"
   ],
   "id": "4bcd59e6fb676990",
   "outputs": [
    {
     "data": {
      "text/plain": [
       "array([1, 1, 0, 0, 1, 0, 1])"
      ]
     },
     "execution_count": 6,
     "metadata": {},
     "output_type": "execute_result"
    }
   ],
   "execution_count": 6
  },
  {
   "metadata": {
    "ExecuteTime": {
     "end_time": "2024-04-30T04:45:20.760960Z",
     "start_time": "2024-04-30T04:45:20.750084Z"
    }
   },
   "cell_type": "code",
   "source": [
    "x\n",
    "np.int8(x>0)"
   ],
   "id": "73b7fe8a132ea5bf",
   "outputs": [
    {
     "data": {
      "text/plain": [
       "array([1, 1, 0, 0, 1, 0, 1], dtype=int8)"
      ]
     },
     "execution_count": 7,
     "metadata": {},
     "output_type": "execute_result"
    }
   ],
   "execution_count": 7
  },
  {
   "metadata": {
    "ExecuteTime": {
     "end_time": "2024-04-30T04:45:20.781143Z",
     "start_time": "2024-04-30T04:45:20.763510Z"
    }
   },
   "cell_type": "code",
   "source": [
    "layers_dims = [200, 20, 1]\n",
    "parameters = {}\n",
    "L= len(layers_dims)\n",
    "for  l in range(1, L):\n",
    "    parameters['W' + str(l)]= np.random.randn(layers_dims[l], layers_dims[l-1]) * np.sqrt(1/layers_dims[l-1])\n",
    "    parameters['b' + str(l)] = np.zeros((layers_dims[l],1))\n",
    "    \n",
    "W1 = parameters['W1']\n",
    "W2 = parameters['W2']\n",
    "b1 = parameters['b1']\n",
    "b2 = parameters['b2']\n",
    "print(W1.shape)\n",
    "print(W2.shape)\n",
    "print(b1.shape)\n",
    "print(b2.shape)\n",
    "\n"
   ],
   "id": "ebff63d1ca0b43d3",
   "outputs": [
    {
     "name": "stdout",
     "output_type": "stream",
     "text": [
      "(20, 200)\n",
      "(1, 20)\n",
      "(20, 1)\n",
      "(1, 1)\n"
     ]
    }
   ],
   "execution_count": 8
  },
  {
   "metadata": {
    "ExecuteTime": {
     "end_time": "2024-04-30T04:45:21.436474Z",
     "start_time": "2024-04-30T04:45:20.784197Z"
    }
   },
   "cell_type": "code",
   "source": [
    "a = np.random.randn(20,5)\n",
    "b = np.random.randn(5,10)\n",
    "c = np.multiply(a,b)\n",
    "c.shape"
   ],
   "id": "8ff226d7d860c13a",
   "outputs": [
    {
     "ename": "ValueError",
     "evalue": "operands could not be broadcast together with shapes (20,5) (5,10) ",
     "output_type": "error",
     "traceback": [
      "\u001B[1;31m---------------------------------------------------------------------------\u001B[0m",
      "\u001B[1;31mValueError\u001B[0m                                Traceback (most recent call last)",
      "Cell \u001B[1;32mIn[9], line 3\u001B[0m\n\u001B[0;32m      1\u001B[0m a \u001B[38;5;241m=\u001B[39m np\u001B[38;5;241m.\u001B[39mrandom\u001B[38;5;241m.\u001B[39mrandn(\u001B[38;5;241m20\u001B[39m,\u001B[38;5;241m5\u001B[39m)\n\u001B[0;32m      2\u001B[0m b \u001B[38;5;241m=\u001B[39m np\u001B[38;5;241m.\u001B[39mrandom\u001B[38;5;241m.\u001B[39mrandn(\u001B[38;5;241m5\u001B[39m,\u001B[38;5;241m10\u001B[39m)\n\u001B[1;32m----> 3\u001B[0m c \u001B[38;5;241m=\u001B[39m \u001B[43mnp\u001B[49m\u001B[38;5;241;43m.\u001B[39;49m\u001B[43mmultiply\u001B[49m\u001B[43m(\u001B[49m\u001B[43ma\u001B[49m\u001B[43m,\u001B[49m\u001B[43mb\u001B[49m\u001B[43m)\u001B[49m\n\u001B[0;32m      4\u001B[0m c\u001B[38;5;241m.\u001B[39mshape\n",
      "\u001B[1;31mValueError\u001B[0m: operands could not be broadcast together with shapes (20,5) (5,10) "
     ]
    }
   ],
   "execution_count": 9
  },
  {
   "metadata": {
    "ExecuteTime": {
     "end_time": "2024-04-30T04:45:21.439251Z",
     "start_time": "2024-04-30T04:45:21.439251Z"
    }
   },
   "cell_type": "code",
   "source": [
    "X = np.array([1,2,3,4,5,6,7,8,9,10])\n",
    "W1 = np.random.randn(10,5)\n",
    "b1 = np.random.randn(5,1)\n",
    "\n",
    "Z1 = np.dot(W1.T,X)\n",
    "print(Z1)\n",
    "A1 = np.maximum(0,Z1)\n",
    "print(A1)\n",
    "\n",
    "A2 = np.int64(Z1>0)\n",
    "print(A2)\n",
    "A3 = np.int64(A1>0)\n",
    "print(A3)"
   ],
   "id": "69c2d6bd2ecad952",
   "outputs": [],
   "execution_count": null
  },
  {
   "metadata": {},
   "cell_type": "code",
   "source": [
    "n = np.array([1,2,3,4,5,6,7,8,9,10])\n",
    "np.maximum(0,n)"
   ],
   "id": "7df53204da111d0d",
   "outputs": [],
   "execution_count": null
  },
  {
   "metadata": {},
   "cell_type": "code",
   "source": [
    "def data():\n",
    "    s = 'Hello'\n",
    "    print(s + 'world')\n",
    "\n",
    "data()"
   ],
   "id": "e5edb25d3a3391a5",
   "outputs": [],
   "execution_count": null
  }
 ],
 "metadata": {
  "kernelspec": {
   "display_name": "Python 3",
   "language": "python",
   "name": "python3"
  },
  "language_info": {
   "codemirror_mode": {
    "name": "ipython",
    "version": 2
   },
   "file_extension": ".py",
   "mimetype": "text/x-python",
   "name": "python",
   "nbconvert_exporter": "python",
   "pygments_lexer": "ipython2",
   "version": "2.7.6"
  }
 },
 "nbformat": 4,
 "nbformat_minor": 5
}
