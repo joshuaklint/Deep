{
 "cells": [
  {
   "cell_type": "code",
   "execution_count": 1,
   "id": "initial_id",
   "metadata": {
    "collapsed": true,
    "ExecuteTime": {
     "end_time": "2023-12-19T14:24:45.534914200Z",
     "start_time": "2023-12-19T14:24:44.091138900Z"
    }
   },
   "outputs": [
    {
     "name": "stdout",
     "output_type": "stream",
     "text": [
      "250297.6748004904\n",
      "vectorization version: 46.892642974853516 ms\n",
      "250297.67480049666\n",
      "for loop: 1205.686092376709 ms\n"
     ]
    }
   ],
   "source": [
    "import  numpy as np\n",
    "import time\n",
    "a = np.random.rand(1000000)\n",
    "b = np.random.rand(1000000)\n",
    "\n",
    "tic = time.time()\n",
    "c = np.dot(a,b)\n",
    "toc = time.time()\n",
    "print(c)\n",
    "print('vectorization version: ' + str(1000*(toc-tic)) + ' ms')\n",
    "\n",
    "c = 0\n",
    "tic = time.time()\n",
    "for i in range(1000000):\n",
    "    c += a[i]*b[i]\n",
    "toc = time.time()\n",
    "print(c)\n",
    "print('for loop: ' + str(1000*(toc-tic)) + ' ms')"
   ]
  },
  {
   "cell_type": "markdown",
   "source": [
    "Vectors and Matrix"
   ],
   "metadata": {
    "collapsed": false
   },
   "id": "23c67b693e75ebc1"
  },
  {
   "cell_type": "code",
   "execution_count": 2,
   "outputs": [
    {
     "name": "stdout",
     "output_type": "stream",
     "text": [
      "[ 59.  239.  195.   76.8]\n"
     ]
    },
    {
     "data": {
      "text/plain": "array([[94.91525424,  0.        , 22.56410256, 88.54166667],\n       [ 2.03389831, 43.51464435, 26.66666667, 10.41666667],\n       [ 3.05084746, 56.48535565, 50.76923077,  1.04166667]])"
     },
     "execution_count": 2,
     "metadata": {},
     "output_type": "execute_result"
    }
   ],
   "source": [
    "A = np.array([[56, 0, 44, 68],\n",
    "              [1.2, 104, 52, 8],\n",
    "              [1.8, 135, 99, 0.8]])\n",
    "\n",
    "cal = A.sum(axis=0)\n",
    "print(cal)\n",
    "per = 100*A/cal.reshape(1,4)\n",
    "per\n",
    " "
   ],
   "metadata": {
    "collapsed": false,
    "ExecuteTime": {
     "end_time": "2023-12-19T14:24:45.561617700Z",
     "start_time": "2023-12-19T14:24:45.541628100Z"
    }
   },
   "id": "7948569fdcff0e67"
  },
  {
   "cell_type": "markdown",
   "source": [],
   "metadata": {
    "collapsed": false
   },
   "id": "e4b60a4de1db5606"
  },
  {
   "cell_type": "code",
   "execution_count": 3,
   "outputs": [
    {
     "data": {
      "text/plain": "(12288, 45)"
     },
     "execution_count": 3,
     "metadata": {},
     "output_type": "execute_result"
    }
   ],
   "source": [
    "a = np.random.randn(12288,150)\n",
    "b = np.random.randn(150,45) \n",
    "\n",
    "c = np.dot(a,b)\n",
    "c.shape"
   ],
   "metadata": {
    "collapsed": false,
    "ExecuteTime": {
     "end_time": "2023-12-19T14:24:45.673419600Z",
     "start_time": "2023-12-19T14:24:45.561617700Z"
    }
   },
   "id": "19766f1967783670"
  },
  {
   "cell_type": "code",
   "execution_count": 4,
   "outputs": [
    {
     "name": "stdout",
     "output_type": "stream",
     "text": [
      "[[ 5  5]\n",
      " [ 5 10]]\n"
     ]
    }
   ],
   "source": [
    "a=np.array([[2,1],[1,3]])\n",
    "print(np.dot(a,a))"
   ],
   "metadata": {
    "collapsed": false,
    "ExecuteTime": {
     "end_time": "2023-12-19T14:24:45.694876200Z",
     "start_time": "2023-12-19T14:24:45.679683100Z"
    }
   },
   "id": "a53d5455191d1033"
  },
  {
   "cell_type": "code",
   "execution_count": 5,
   "outputs": [
    {
     "data": {
      "text/plain": "array([[[1],\n        [2]],\n\n       [[3],\n        [4]]])"
     },
     "execution_count": 5,
     "metadata": {},
     "output_type": "execute_result"
    }
   ],
   "source": [
    "x=np.array([[[1],[2]],[[3],[4]]])\n",
    "x"
   ],
   "metadata": {
    "collapsed": false,
    "ExecuteTime": {
     "end_time": "2023-12-19T14:24:45.751173Z",
     "start_time": "2023-12-19T14:24:45.692705600Z"
    }
   },
   "id": "dd3b12d4a1b4a27e"
  },
  {
   "cell_type": "code",
   "execution_count": 6,
   "outputs": [
    {
     "data": {
      "text/plain": "((2, 1),\n array([[5.        ],\n        [7.28010989]]))"
     },
     "execution_count": 6,
     "metadata": {},
     "output_type": "execute_result"
    }
   ],
   "source": [
    "x = np.array([[0, 3, 4],\n",
    "              [1, 6, 4]])\n",
    "x_norm = np.linalg.norm(x, axis=1, ord=2)\n",
    "x_norm = x_norm.reshape(-1,1)\n",
    "x_norm.shape, x_norm"
   ],
   "metadata": {
    "collapsed": false,
    "ExecuteTime": {
     "end_time": "2023-12-19T14:24:45.753239500Z",
     "start_time": "2023-12-19T14:24:45.708803700Z"
    }
   },
   "id": "509ec2c959762cf2"
  },
  {
   "cell_type": "code",
   "execution_count": 7,
   "outputs": [
    {
     "data": {
      "text/plain": "array([[0.        , 0.6       , 0.8       ],\n       [0.13736056, 0.82416338, 0.54944226]])"
     },
     "execution_count": 7,
     "metadata": {},
     "output_type": "execute_result"
    }
   ],
   "source": [
    "x = x.astype('float64')\n",
    "x /= x_norm\n",
    "import numpy as np\n",
    "import time\n",
    "x1 = [9, 2, 5, 0, 0, 7, 5, 0, 0, 0, 9, 2, 5, 0, 0]\n",
    "x2 = [9, 2, 2, 9, 0, 9, 2, 5, 0, 0, 9, 2, 5, 0, 0]\n",
    "\n",
    "tim = time.process_time()\n",
    "dot = 0\n",
    "for i in range(len(x1)):\n",
    "    dot += x1[i]*x2[i]\n",
    "\n",
    "toc = time.process_time()\n",
    "\n",
    "x"
   ],
   "metadata": {
    "collapsed": false,
    "ExecuteTime": {
     "end_time": "2023-12-19T14:24:45.833774500Z",
     "start_time": "2023-12-19T14:24:45.729390700Z"
    }
   },
   "id": "1eb1a10b700f1d04"
  },
  {
   "cell_type": "code",
   "execution_count": 8,
   "outputs": [
    {
     "name": "stdout",
     "output_type": "stream",
     "text": [
      " dot: 278  computation time 0.0 ms\n"
     ]
    }
   ],
   "source": [
    "import numpy as np\n",
    "import time\n",
    "x1 = [9, 2, 5, 0, 0, 7, 5, 0, 0, 0, 9, 2, 5, 0, 0]\n",
    "x2 = [9, 2, 2, 9, 0, 9, 2, 5, 0, 0, 9, 2, 5, 0, 0]\n",
    "\n",
    "tim = time.process_time()\n",
    "dot = 0\n",
    "for i in range(len(x1)):\n",
    "    dot += x1[i]*x2[i]\n",
    "\n",
    "toc = time.process_time()\n",
    "tt = 1000*(toc-tim)\n",
    "print(f' dot: {dot}  computation time {tt} ms')\n",
    "    "
   ],
   "metadata": {
    "collapsed": false,
    "ExecuteTime": {
     "end_time": "2023-12-19T14:24:45.837940500Z",
     "start_time": "2023-12-19T14:24:45.742817700Z"
    }
   },
   "id": "67962cc4df9580e4"
  },
  {
   "cell_type": "code",
   "execution_count": 9,
   "outputs": [
    {
     "name": "stdout",
     "output_type": "stream",
     "text": [
      " outer: [[81. 18. 18. 81.  0. 81. 18. 45.  0.  0. 81. 18. 45.  0.  0.]\n",
      " [18.  4.  4. 18.  0. 18.  4. 10.  0.  0. 18.  4. 10.  0.  0.]\n",
      " [45. 10. 10. 45.  0. 45. 10. 25.  0.  0. 45. 10. 25.  0.  0.]\n",
      " [ 0.  0.  0.  0.  0.  0.  0.  0.  0.  0.  0.  0.  0.  0.  0.]\n",
      " [ 0.  0.  0.  0.  0.  0.  0.  0.  0.  0.  0.  0.  0.  0.  0.]\n",
      " [63. 14. 14. 63.  0. 63. 14. 35.  0.  0. 63. 14. 35.  0.  0.]\n",
      " [45. 10. 10. 45.  0. 45. 10. 25.  0.  0. 45. 10. 25.  0.  0.]\n",
      " [ 0.  0.  0.  0.  0.  0.  0.  0.  0.  0.  0.  0.  0.  0.  0.]\n",
      " [ 0.  0.  0.  0.  0.  0.  0.  0.  0.  0.  0.  0.  0.  0.  0.]\n",
      " [ 0.  0.  0.  0.  0.  0.  0.  0.  0.  0.  0.  0.  0.  0.  0.]\n",
      " [81. 18. 18. 81.  0. 81. 18. 45.  0.  0. 81. 18. 45.  0.  0.]\n",
      " [18.  4.  4. 18.  0. 18.  4. 10.  0.  0. 18.  4. 10.  0.  0.]\n",
      " [45. 10. 10. 45.  0. 45. 10. 25.  0.  0. 45. 10. 25.  0.  0.]\n",
      " [ 0.  0.  0.  0.  0.  0.  0.  0.  0.  0.  0.  0.  0.  0.  0.]\n",
      " [ 0.  0.  0.  0.  0.  0.  0.  0.  0.  0.  0.  0.  0.  0.  0.]]  \"computation time: 0.0\n"
     ]
    }
   ],
   "source": [
    "outer = np.zeros((len(x1), len(x2)))\n",
    "\n",
    "tim = time.process_time()\n",
    "for i in range(len(x1)):\n",
    "    for j in range(len(x2)):\n",
    "        outer[i,j] = x1[i]*x2[j]\n",
    "        \n",
    "toc = time.process_time()\n",
    "tt = 1000*(toc-tim)\n",
    "print(f' outer: {outer}  \"computation time: {1000*toc-1000*tim}')"
   ],
   "metadata": {
    "collapsed": false,
    "ExecuteTime": {
     "end_time": "2023-12-19T14:24:45.853030900Z",
     "start_time": "2023-12-19T14:24:45.759521900Z"
    }
   },
   "id": "8d2016427704e6a4"
  },
  {
   "cell_type": "code",
   "execution_count": 10,
   "outputs": [
    {
     "name": "stdout",
     "output_type": "stream",
     "text": [
      "[[ 0.60283189  1.22276337  0.56243825  0.94257425  0.55386149  1.06943786\n",
      "  -0.36745966  0.67670052  1.1975321  -0.02842033 -2.09318481 -0.16409329\n",
      "  -1.95139709 -1.2270863   0.10196978]\n",
      " [ 0.58354942 -0.42418447  0.40111264  0.30227261  0.74813637  0.06181164\n",
      "   0.40483636 -1.16111971 -0.53455186 -0.38500611 -1.58226615  0.1134466\n",
      "   0.38466929 -0.05250529  1.01112586]\n",
      " [ 0.99891562 -0.06365836  0.79323801  0.33573168  0.78876057 -0.67073361\n",
      "   1.40257485  0.23269103  0.73993524  1.47116733 -1.17200398 -0.44616654\n",
      "   1.11527028  0.725074    1.4414141 ]]\n",
      "[0. 0. 0.]\n",
      " gdot: [-12.59186364  -3.22415345   9.28283543] computation time 0.0\n"
     ]
    }
   ],
   "source": [
    "W = np.random.randn(3, len(x1))\n",
    "print(W)\n",
    "gdot = np.zeros(W.shape[0])\n",
    "print(gdot)\n",
    "tim = time.time()\n",
    "\n",
    "for i in range(W.shape[0]):\n",
    "    for j in range(len(x1)):\n",
    "        gdot[i] += W[i,j]*x1[j]\n",
    "\n",
    "toc = time.time()\n",
    "print(f' gdot: {gdot} computation time {toc-tim}')"
   ],
   "metadata": {
    "collapsed": false,
    "ExecuteTime": {
     "end_time": "2023-12-19T14:24:45.855207200Z",
     "start_time": "2023-12-19T14:24:45.773231200Z"
    }
   },
   "id": "a1e96f694f39841d"
  },
  {
   "cell_type": "code",
   "execution_count": 11,
   "outputs": [
    {
     "data": {
      "text/plain": "array([[ 0.60283189,  1.22276337,  0.56243825,  0.94257425,  0.55386149,\n         1.06943786, -0.36745966,  0.67670052,  1.1975321 , -0.02842033,\n        -2.09318481, -0.16409329, -1.95139709, -1.2270863 ,  0.10196978],\n       [ 0.58354942, -0.42418447,  0.40111264,  0.30227261,  0.74813637,\n         0.06181164,  0.40483636, -1.16111971, -0.53455186, -0.38500611,\n        -1.58226615,  0.1134466 ,  0.38466929, -0.05250529,  1.01112586],\n       [ 0.99891562, -0.06365836,  0.79323801,  0.33573168,  0.78876057,\n        -0.67073361,  1.40257485,  0.23269103,  0.73993524,  1.47116733,\n        -1.17200398, -0.44616654,  1.11527028,  0.725074  ,  1.4414141 ]])"
     },
     "execution_count": 11,
     "metadata": {},
     "output_type": "execute_result"
    }
   ],
   "source": [
    "W"
   ],
   "metadata": {
    "collapsed": false,
    "ExecuteTime": {
     "end_time": "2023-12-19T14:24:45.937594500Z",
     "start_time": "2023-12-19T14:24:45.789577300Z"
    }
   },
   "id": "e6deb86b918ea975"
  },
  {
   "cell_type": "code",
   "execution_count": 14,
   "outputs": [
    {
     "name": "stdout",
     "output_type": "stream",
     "text": [
      "[[-0.06388283 -0.02310955 -0.68401432 -0.26530258]\n",
      " [-1.01088108 -0.62472804 -2.45377379 -1.27355243]]\n",
      "[0. 0.]\n",
      " gdot: [ -3.22335522 -14.71586826] computation time 0.0\n"
     ]
    }
   ],
   "source": [
    "x = [1,2,3,4]\n",
    "w = np.random.randn(2, len(x))\n",
    "print(w)\n",
    "gdot = np.zeros(w.shape[0])\n",
    "print(gdot)\n",
    "tim = time.time()\n",
    "\n",
    "for i in range(w.shape[0]):\n",
    "    for j in range(len(x)):\n",
    "        gdot[i] += w[i,j]*x[j]\n",
    "\n",
    "toc = time.time()\n",
    "print(f' gdot: {gdot} computation time {toc-tim}')"
   ],
   "metadata": {
    "collapsed": false,
    "ExecuteTime": {
     "end_time": "2023-12-19T14:28:49.826407600Z",
     "start_time": "2023-12-19T14:28:49.813843800Z"
    }
   },
   "id": "743e14c55245c769"
  }
 ],
 "metadata": {
  "kernelspec": {
   "display_name": "Python 3",
   "language": "python",
   "name": "python3"
  },
  "language_info": {
   "codemirror_mode": {
    "name": "ipython",
    "version": 2
   },
   "file_extension": ".py",
   "mimetype": "text/x-python",
   "name": "python",
   "nbconvert_exporter": "python",
   "pygments_lexer": "ipython2",
   "version": "2.7.6"
  }
 },
 "nbformat": 4,
 "nbformat_minor": 5
}
