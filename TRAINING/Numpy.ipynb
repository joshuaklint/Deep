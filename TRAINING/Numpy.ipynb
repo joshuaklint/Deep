{
 "cells": [
  {
   "cell_type": "code",
   "execution_count": 1,
   "id": "initial_id",
   "metadata": {
    "collapsed": true,
    "ExecuteTime": {
     "end_time": "2024-03-25T02:33:26.092720Z",
     "start_time": "2024-03-25T02:33:25.503945Z"
    }
   },
   "outputs": [],
   "source": [
    "import numpy as np\n",
    "from numpy import empty, ones, zeros\n",
    "from scipy import stats, sparse"
   ]
  },
  {
   "cell_type": "code",
   "outputs": [
    {
     "name": "stdout",
     "output_type": "stream",
     "text": [
      "[[6.23042070e-307 4.67296746e-307 1.69121096e-306]\n",
      " [1.24610994e-306 1.42413555e-306 1.78019082e-306]\n",
      " [1.37959740e-306 2.29178686e-312 0.00000000e+000]]\n",
      "[[4.67296746e-307 1.69121096e-306 1.24610994e-306 1.42413555e-306]\n",
      " [1.78019082e-306 1.37959740e-306 6.23057349e-307 1.42419530e-306]]\n"
     ]
    }
   ],
   "source": [
    "emt = empty([3,3])\n",
    "emt1 = empty([2,4])\n",
    "print(emt)\n",
    "print(emt1)"
   ],
   "metadata": {
    "collapsed": false,
    "ExecuteTime": {
     "end_time": "2024-03-25T02:33:26.100656Z",
     "start_time": "2024-03-25T02:33:26.093779Z"
    }
   },
   "id": "3d5c82c3708e4f4",
   "execution_count": 2
  },
  {
   "cell_type": "code",
   "outputs": [
    {
     "name": "stdout",
     "output_type": "stream",
     "text": [
      "[[1. 1.]\n",
      " [1. 1.]]\n",
      "[[1. 1. 1. 1.]\n",
      " [1. 1. 1. 1.]]\n",
      "float64\n"
     ]
    }
   ],
   "source": [
    "on1 = ones([2,2])\n",
    "on2 = ones([2,4])\n",
    "print(on1)\n",
    "print(on2)\n",
    "print(on1.dtype)"
   ],
   "metadata": {
    "collapsed": false,
    "ExecuteTime": {
     "end_time": "2024-03-25T02:33:26.133346Z",
     "start_time": "2024-03-25T02:33:26.101824Z"
    }
   },
   "id": "5e913d538c0a0118",
   "execution_count": 3
  },
  {
   "cell_type": "code",
   "outputs": [
    {
     "name": "stdout",
     "output_type": "stream",
     "text": [
      "[[0. 0. 0.]\n",
      " [0. 0. 0.]]\n",
      "[[0. 0. 0. 0. 0.]\n",
      " [0. 0. 0. 0. 0.]]\n"
     ]
    }
   ],
   "source": [
    "ze1 = zeros([2,3])\n",
    "ze2 = zeros([2,5])\n",
    "print(ze1)\n",
    "print(ze2)"
   ],
   "metadata": {
    "collapsed": false,
    "ExecuteTime": {
     "end_time": "2024-03-25T02:33:26.142523Z",
     "start_time": "2024-03-25T02:33:26.135421Z"
    }
   },
   "id": "ae153e766caa1af8",
   "execution_count": 4
  },
  {
   "cell_type": "code",
   "outputs": [
    {
     "name": "stdout",
     "output_type": "stream",
     "text": [
      "1\n",
      "1\n"
     ]
    }
   ],
   "source": [
    "a = np.array([1,2,3])\n",
    "b = np.array([4,5,6])\n",
    "print(a.ndim)\n",
    "print(b.ndim)"
   ],
   "metadata": {
    "collapsed": false,
    "ExecuteTime": {
     "end_time": "2024-03-25T02:33:26.150789Z",
     "start_time": "2024-03-25T02:33:26.143587Z"
    }
   },
   "id": "9675087d307b8720",
   "execution_count": 5
  },
  {
   "cell_type": "code",
   "outputs": [
    {
     "name": "stdout",
     "output_type": "stream",
     "text": [
      "[[1 2 3]\n",
      " [4 5 6]]\n",
      "2\n",
      "(2, 3)\n"
     ]
    }
   ],
   "source": [
    "#VERTICAL STACKING (V STACK)\n",
    "V_STACK = np.vstack((a,b))\n",
    "print(V_STACK)\n",
    "print(V_STACK.ndim)\n",
    "print(V_STACK.shape)"
   ],
   "metadata": {
    "collapsed": false,
    "ExecuteTime": {
     "end_time": "2024-03-25T02:33:26.160249Z",
     "start_time": "2024-03-25T02:33:26.151891Z"
    }
   },
   "id": "f46c3a63c248a2a8",
   "execution_count": 6
  },
  {
   "cell_type": "code",
   "outputs": [
    {
     "name": "stdout",
     "output_type": "stream",
     "text": [
      "[1 2 3 4 5 6]\n",
      "1\n",
      "(6,)\n"
     ]
    }
   ],
   "source": [
    "#HORIZONTAL STACK (HSTACK) \n",
    "#two one-dimensional array into one array/row\n",
    "\n",
    "H_STACK = np.hstack((a,b))\n",
    "print(H_STACK)\n",
    "print(H_STACK.ndim)\n",
    "print(H_STACK.shape)"
   ],
   "metadata": {
    "collapsed": false,
    "ExecuteTime": {
     "end_time": "2024-03-25T02:33:26.168819Z",
     "start_time": "2024-03-25T02:33:26.161335Z"
    }
   },
   "id": "ff16bc7d553c3976",
   "execution_count": 7
  },
  {
   "cell_type": "code",
   "outputs": [
    {
     "name": "stdout",
     "output_type": "stream",
     "text": [
      "[11 12 15 10]\n",
      "<class 'numpy.ndarray'>\n",
      "int32\n"
     ]
    }
   ],
   "source": [
    "#LIST TO ARRAY\n",
    "listA  = [11,12,15,10]\n",
    "listB = np.array(listA)\n",
    "print(listB)\n",
    "print(type(listB))\n",
    "print(listB.dtype)"
   ],
   "metadata": {
    "collapsed": false,
    "ExecuteTime": {
     "end_time": "2024-03-25T02:33:26.179037Z",
     "start_time": "2024-03-25T02:33:26.171013Z"
    }
   },
   "id": "e042ec57af7a0129",
   "execution_count": 8
  },
  {
   "cell_type": "code",
   "outputs": [
    {
     "name": "stdout",
     "output_type": "stream",
     "text": [
      "[[2 4]\n",
      " [3 6]\n",
      " [4 8]]\n",
      "(3, 2)\n"
     ]
    }
   ],
   "source": [
    "A = [[2,4],\n",
    "     [3,6],\n",
    "     [4,8]]\n",
    "A_array = np.array(A)\n",
    "print(A_array)\n",
    "print(A_array.shape)"
   ],
   "metadata": {
    "collapsed": false,
    "ExecuteTime": {
     "end_time": "2024-03-25T02:33:26.192138Z",
     "start_time": "2024-03-25T02:33:26.180134Z"
    }
   },
   "id": "631ec85dcb4dbd65",
   "execution_count": 9
  },
  {
   "cell_type": "code",
   "outputs": [
    {
     "name": "stdout",
     "output_type": "stream",
     "text": [
      "11\n",
      "15\n"
     ]
    }
   ],
   "source": [
    "print(listB[0])\n",
    "print(listB[2])"
   ],
   "metadata": {
    "collapsed": false,
    "ExecuteTime": {
     "end_time": "2024-03-25T02:33:26.200607Z",
     "start_time": "2024-03-25T02:33:26.194208Z"
    }
   },
   "id": "a1e5d8907a8ca91e",
   "execution_count": 10
  },
  {
   "cell_type": "code",
   "outputs": [
    {
     "name": "stdout",
     "output_type": "stream",
     "text": [
      "3\n",
      "[2 4]\n"
     ]
    }
   ],
   "source": [
    "print(A_array[1,0])\n",
    "print(A_array[0,])"
   ],
   "metadata": {
    "collapsed": false,
    "ExecuteTime": {
     "end_time": "2024-03-25T02:33:26.209608Z",
     "start_time": "2024-03-25T02:33:26.201676Z"
    }
   },
   "id": "58e1592f9e8fc6bf",
   "execution_count": 11
  },
  {
   "cell_type": "code",
   "outputs": [
    {
     "name": "stdout",
     "output_type": "stream",
     "text": [
      "[[11 22 33]\n",
      " [44 55 66]\n",
      " [77 88 99]]\n",
      "[[11 22]\n",
      " [44 55]\n",
      " [77 88]] [33 66 99]\n"
     ]
    }
   ],
   "source": [
    "sl = np.array([\n",
    "     [11,22,33],\n",
    "     [44,55,66],\n",
    "     [77,88,99]\n",
    "])\n",
    "print(sl)\n",
    "X, y = sl[:,:-1], sl[:,-1]\n",
    "print(X,y)"
   ],
   "metadata": {
    "collapsed": false,
    "ExecuteTime": {
     "end_time": "2024-03-25T02:33:26.261684Z",
     "start_time": "2024-03-25T02:33:26.256983Z"
    }
   },
   "id": "94d4be47fc76fd11",
   "execution_count": 12
  },
  {
   "cell_type": "code",
   "outputs": [
    {
     "name": "stdout",
     "output_type": "stream",
     "text": [
      "(6, 1)\n",
      "(6, 1)\n"
     ]
    }
   ],
   "source": [
    "H_STACK.shape\n",
    "print(H_STACK.reshape(H_STACK.shape[0], 1).shape)\n",
    "print(H_STACK.reshape(-1,1).shape)"
   ],
   "metadata": {
    "collapsed": false,
    "ExecuteTime": {
     "end_time": "2024-03-25T02:33:26.468146Z",
     "start_time": "2024-03-25T02:33:26.463984Z"
    }
   },
   "id": "a634672984985ad3",
   "execution_count": 13
  },
  {
   "cell_type": "code",
   "outputs": [
    {
     "name": "stdout",
     "output_type": "stream",
     "text": [
      "[[[11]\n",
      "  [22]\n",
      "  [33]]\n",
      "\n",
      " [[44]\n",
      "  [55]\n",
      "  [66]]\n",
      "\n",
      " [[77]\n",
      "  [88]\n",
      "  [99]]]\n",
      "(3, 3, 1)\n"
     ]
    }
   ],
   "source": [
    "s3 = sl.reshape(sl.shape[0],sl.shape[1],1)\n",
    "print(s3)\n",
    "print(s3.shape)"
   ],
   "metadata": {
    "collapsed": false,
    "ExecuteTime": {
     "end_time": "2024-03-25T02:33:26.600667Z",
     "start_time": "2024-03-25T02:33:26.595229Z"
    }
   },
   "id": "a7a4f574c3d45f49",
   "execution_count": 14
  },
  {
   "cell_type": "code",
   "outputs": [
    {
     "data": {
      "text/plain": "array([[11, 22, 33],\n       [44, 55, 66],\n       [77, 88, 99]])"
     },
     "execution_count": 15,
     "metadata": {},
     "output_type": "execute_result"
    }
   ],
   "source": [
    "s2 = s3.reshape(sl.shape[0],-1)\n",
    "s2"
   ],
   "metadata": {
    "collapsed": false,
    "ExecuteTime": {
     "end_time": "2024-03-25T02:33:26.715666Z",
     "start_time": "2024-03-25T02:33:26.707171Z"
    }
   },
   "id": "238339ef80db3cf7",
   "execution_count": 15
  },
  {
   "cell_type": "markdown",
   "source": [
    "# BROADCASTING"
   ],
   "metadata": {
    "collapsed": false
   },
   "id": "8c0de3edd29fc332"
  },
  {
   "cell_type": "code",
   "outputs": [
    {
     "name": "stdout",
     "output_type": "stream",
     "text": [
      "[3 4 5]\n",
      "(3,)\n"
     ]
    }
   ],
   "source": [
    "a1 =  np.array([1,2,3])\n",
    "b1 = np.array([2])\n",
    "c = a1 + b1\n",
    "print(c)\n",
    "print(a1.shape)"
   ],
   "metadata": {
    "collapsed": false,
    "ExecuteTime": {
     "end_time": "2024-03-25T02:33:26.732264Z",
     "start_time": "2024-03-25T02:33:26.727273Z"
    }
   },
   "id": "8c277830ba542b3e",
   "execution_count": 16
  },
  {
   "cell_type": "code",
   "outputs": [
    {
     "name": "stdout",
     "output_type": "stream",
     "text": [
      "[[3 4 5]\n",
      " [6 7 8]]\n"
     ]
    }
   ],
   "source": [
    "a2 = np.array([[1,2,3],\n",
    "               [4,5,6]])\n",
    "c1 = a2 + b1\n",
    "print(c1)"
   ],
   "metadata": {
    "collapsed": false,
    "ExecuteTime": {
     "end_time": "2024-03-25T02:33:26.759467Z",
     "start_time": "2024-03-25T02:33:26.753005Z"
    }
   },
   "id": "146c38c4360c60d8",
   "execution_count": 17
  },
  {
   "cell_type": "code",
   "outputs": [
    {
     "name": "stdout",
     "output_type": "stream",
     "text": [
      "[[ 3  6  9]\n",
      " [ 6  9 12]]\n"
     ]
    }
   ],
   "source": [
    "b2 = np.array([2,4,6])\n",
    "c2 = a2 + b2\n",
    "print(c2)"
   ],
   "metadata": {
    "collapsed": false,
    "ExecuteTime": {
     "end_time": "2024-03-25T02:33:26.859598Z",
     "start_time": "2024-03-25T02:33:26.855754Z"
    }
   },
   "id": "953a4f4c74d4e04b",
   "execution_count": 18
  },
  {
   "cell_type": "markdown",
   "source": [
    "# VECTOR"
   ],
   "metadata": {
    "collapsed": false
   },
   "id": "ebf5ad587280c25e"
  },
  {
   "cell_type": "code",
   "outputs": [
    {
     "name": "stdout",
     "output_type": "stream",
     "text": [
      "[1 4 9]\n"
     ]
    }
   ],
   "source": [
    "a = np.array([1,2,3])\n",
    "b = np.array([1,2,3])\n",
    "c = a * b\n",
    "print(c)"
   ],
   "metadata": {
    "collapsed": false,
    "ExecuteTime": {
     "end_time": "2024-03-25T02:33:26.943908Z",
     "start_time": "2024-03-25T02:33:26.938857Z"
    }
   },
   "id": "5e1460d74e2d0b10",
   "execution_count": 19
  },
  {
   "cell_type": "code",
   "outputs": [
    {
     "name": "stdout",
     "output_type": "stream",
     "text": [
      "[1. 1. 1.]\n"
     ]
    }
   ],
   "source": [
    "c = a/b\n",
    "print(c)"
   ],
   "metadata": {
    "collapsed": false,
    "ExecuteTime": {
     "end_time": "2024-03-25T02:33:26.989753Z",
     "start_time": "2024-03-25T02:33:26.983855Z"
    }
   },
   "id": "7d73e57de05b8c4f",
   "execution_count": 20
  },
  {
   "cell_type": "markdown",
   "source": [
    "# Dot Product"
   ],
   "metadata": {
    "collapsed": false
   },
   "id": "d3a00beab32dcca2"
  },
  {
   "cell_type": "code",
   "outputs": [
    {
     "name": "stdout",
     "output_type": "stream",
     "text": [
      "14\n"
     ]
    }
   ],
   "source": [
    "d = np.dot(a,b)\n",
    "print(d)"
   ],
   "metadata": {
    "collapsed": false,
    "ExecuteTime": {
     "end_time": "2024-03-25T02:33:27.076659Z",
     "start_time": "2024-03-25T02:33:27.072527Z"
    }
   },
   "id": "8ac5063a42ea1438",
   "execution_count": 21
  },
  {
   "cell_type": "code",
   "outputs": [
    {
     "data": {
      "text/plain": "14"
     },
     "execution_count": 22,
     "metadata": {},
     "output_type": "execute_result"
    }
   ],
   "source": [
    "a.dot(b)"
   ],
   "metadata": {
    "collapsed": false,
    "ExecuteTime": {
     "end_time": "2024-03-25T02:33:27.134425Z",
     "start_time": "2024-03-25T02:33:27.128739Z"
    }
   },
   "id": "e217828f8242e9ac",
   "execution_count": 22
  },
  {
   "cell_type": "markdown",
   "source": [
    "# VECTOR NORMS "
   ],
   "metadata": {
    "collapsed": false
   },
   "id": "e12300ca5207e4df"
  },
  {
   "cell_type": "code",
   "outputs": [],
   "source": [
    "#Vector Magnitude or length is called Vector norm"
   ],
   "metadata": {
    "collapsed": false,
    "ExecuteTime": {
     "end_time": "2024-03-25T02:33:27.233339Z",
     "start_time": "2024-03-25T02:33:27.230410Z"
    }
   },
   "id": "e994523d778f8cf7",
   "execution_count": 23
  },
  {
   "cell_type": "code",
   "outputs": [
    {
     "name": "stdout",
     "output_type": "stream",
     "text": [
      "15.0\n"
     ]
    }
   ],
   "source": [
    "#Vector L1 Norm\n",
    "a = np.array([1,2,3,4,5])\n",
    "l1N = np.linalg.norm(a,1)\n",
    "print(l1N)"
   ],
   "metadata": {
    "collapsed": false,
    "ExecuteTime": {
     "end_time": "2024-03-25T02:33:27.269655Z",
     "start_time": "2024-03-25T02:33:27.265802Z"
    }
   },
   "id": "f4967ab3bf12cb45",
   "execution_count": 24
  },
  {
   "cell_type": "code",
   "outputs": [
    {
     "name": "stdout",
     "output_type": "stream",
     "text": [
      "7.416198487095663\n"
     ]
    }
   ],
   "source": [
    "#Vector L2 Norm\n",
    "l2N = np.linalg.norm(a,2)\n",
    "print(l2N)"
   ],
   "metadata": {
    "collapsed": false,
    "ExecuteTime": {
     "end_time": "2024-03-25T02:33:27.376679Z",
     "start_time": "2024-03-25T02:33:27.367953Z"
    }
   },
   "id": "67cc28ee12f57407",
   "execution_count": 25
  },
  {
   "cell_type": "code",
   "outputs": [
    {
     "name": "stdout",
     "output_type": "stream",
     "text": [
      "7.416198487095663\n"
     ]
    }
   ],
   "source": [
    "# Vector Max Norm\n",
    "l3N = np.linalg.norm(a)\n",
    "print(l3N)"
   ],
   "metadata": {
    "collapsed": false,
    "ExecuteTime": {
     "end_time": "2024-03-25T02:33:27.423527Z",
     "start_time": "2024-03-25T02:33:27.418347Z"
    }
   },
   "id": "e0be9abd0cd7f124",
   "execution_count": 26
  },
  {
   "cell_type": "markdown",
   "source": [
    "# MATRICES AND MATRIX"
   ],
   "metadata": {
    "collapsed": false
   },
   "id": "f0043e42cfabd995"
  },
  {
   "cell_type": "markdown",
   "source": [],
   "metadata": {
    "collapsed": false
   },
   "id": "183c799cc1011bcd"
  },
  {
   "cell_type": "code",
   "outputs": [],
   "source": [
    " A = np.array([[1,2,3],\n",
    "               [4,5,6]])\n",
    "\n",
    " B = np.array([[2,4,6],\n",
    "               [3,6,9]])\n",
    " "
   ],
   "metadata": {
    "collapsed": false,
    "ExecuteTime": {
     "end_time": "2024-03-25T02:33:27.509228Z",
     "start_time": "2024-03-25T02:33:27.505180Z"
    }
   },
   "id": "93dcd9c71265f615",
   "execution_count": 27
  },
  {
   "cell_type": "code",
   "outputs": [
    {
     "name": "stdout",
     "output_type": "stream",
     "text": [
      "[[ 3  6  9]\n",
      " [ 7 11 15]]\n"
     ]
    }
   ],
   "source": [
    "# Addition\n",
    "C =  A+ B\n",
    "print(C)"
   ],
   "metadata": {
    "collapsed": false,
    "ExecuteTime": {
     "end_time": "2024-03-25T02:33:27.559482Z",
     "start_time": "2024-03-25T02:33:27.555063Z"
    }
   },
   "id": "83da2ee672c5ba6e",
   "execution_count": 28
  },
  {
   "cell_type": "code",
   "outputs": [
    {
     "name": "stdout",
     "output_type": "stream",
     "text": [
      "[[-1 -2 -3]\n",
      " [ 1 -1 -3]]\n"
     ]
    }
   ],
   "source": [
    "#SUBTRACTION\n",
    "C = A-B\n",
    "print(C)"
   ],
   "metadata": {
    "collapsed": false,
    "ExecuteTime": {
     "end_time": "2024-03-25T02:33:27.650927Z",
     "start_time": "2024-03-25T02:33:27.646098Z"
    }
   },
   "id": "e0ab7c9d2cb46c14",
   "execution_count": 29
  },
  {
   "cell_type": "code",
   "outputs": [
    {
     "name": "stdout",
     "output_type": "stream",
     "text": [
      "[[ 2  8 18]\n",
      " [12 30 54]]\n"
     ]
    }
   ],
   "source": [
    "# MULTIPLICATION (HADAMARD PRODUCT)\n",
    "C = A * B\n",
    "print(C)"
   ],
   "metadata": {
    "collapsed": false,
    "ExecuteTime": {
     "end_time": "2024-03-25T02:33:27.695198Z",
     "start_time": "2024-03-25T02:33:27.690794Z"
    }
   },
   "id": "ded811ee6c2b6388",
   "execution_count": 30
  },
  {
   "cell_type": "code",
   "outputs": [
    {
     "name": "stdout",
     "output_type": "stream",
     "text": [
      "[[0.5        0.5        0.5       ]\n",
      " [1.33333333 0.83333333 0.66666667]]\n"
     ]
    }
   ],
   "source": [
    "# MATRIX DIVISION\n",
    "C = A/B\n",
    "print(C)"
   ],
   "metadata": {
    "collapsed": false,
    "ExecuteTime": {
     "end_time": "2024-03-25T02:33:27.757663Z",
     "start_time": "2024-03-25T02:33:27.752955Z"
    }
   },
   "id": "e32e7cf7c4a15a0a",
   "execution_count": 31
  },
  {
   "cell_type": "markdown",
   "source": [
    "# MATRIX-MATRIX MULTIPLICATION (MATRIC DOT PRODUCT)"
   ],
   "metadata": {
    "collapsed": false
   },
   "id": "a757b05d7ae7d2ba"
  },
  {
   "cell_type": "code",
   "outputs": [],
   "source": [
    "A = np.array([[1,2],\n",
    "              [3,4],\n",
    "              [5,6]])\n",
    "B = np.array([[1,2],\n",
    "              [3,4]])"
   ],
   "metadata": {
    "collapsed": false,
    "ExecuteTime": {
     "end_time": "2024-03-25T02:33:27.821461Z",
     "start_time": "2024-03-25T02:33:27.815205Z"
    }
   },
   "id": "35b346dda22b5dac",
   "execution_count": 32
  },
  {
   "cell_type": "code",
   "outputs": [
    {
     "name": "stdout",
     "output_type": "stream",
     "text": [
      "[[ 7 10]\n",
      " [15 22]\n",
      " [23 34]]\n"
     ]
    }
   ],
   "source": [
    "C = np.dot(A,B)\n",
    "print(C)"
   ],
   "metadata": {
    "collapsed": false,
    "ExecuteTime": {
     "end_time": "2024-03-25T02:33:27.952983Z",
     "start_time": "2024-03-25T02:33:27.947794Z"
    }
   },
   "id": "42b1796e86352641",
   "execution_count": 33
  },
  {
   "cell_type": "code",
   "outputs": [
    {
     "name": "stdout",
     "output_type": "stream",
     "text": [
      "[[ 7 10]\n",
      " [15 22]\n",
      " [23 34]]\n"
     ]
    }
   ],
   "source": [
    "C = A @ B\n",
    "print(C)"
   ],
   "metadata": {
    "collapsed": false,
    "ExecuteTime": {
     "end_time": "2024-03-25T02:33:27.990266Z",
     "start_time": "2024-03-25T02:33:27.982683Z"
    }
   },
   "id": "7bd787399efc376e",
   "execution_count": 34
  },
  {
   "cell_type": "code",
   "outputs": [
    {
     "name": "stdout",
     "output_type": "stream",
     "text": [
      "[[ 7 10]\n",
      " [15 22]\n",
      " [23 34]]\n"
     ]
    }
   ],
   "source": [
    "D = A.dot(B)\n",
    "print(D)"
   ],
   "metadata": {
    "collapsed": false,
    "ExecuteTime": {
     "end_time": "2024-03-25T02:33:28.177752Z",
     "start_time": "2024-03-25T02:33:28.173590Z"
    }
   },
   "id": "ce433e9a6258052d",
   "execution_count": 35
  },
  {
   "cell_type": "code",
   "outputs": [
    {
     "name": "stdout",
     "output_type": "stream",
     "text": [
      "[1.5 3.5 5.5]\n"
     ]
    },
    {
     "data": {
      "text/plain": "(3,)"
     },
     "execution_count": 36,
     "metadata": {},
     "output_type": "execute_result"
    }
   ],
   "source": [
    "A\n",
    "B = np.array([0.5,0.5])\n",
    "c = np.dot(A,B)\n",
    "print(c)\n",
    "c.shape"
   ],
   "metadata": {
    "collapsed": false,
    "ExecuteTime": {
     "end_time": "2024-03-25T02:33:28.260537Z",
     "start_time": "2024-03-25T02:33:28.251869Z"
    }
   },
   "id": "d8fe6053e2aa882e",
   "execution_count": 36
  },
  {
   "cell_type": "code",
   "outputs": [
    {
     "data": {
      "text/plain": "array([[0.5, 1. ],\n       [1.5, 2. ],\n       [2.5, 3. ]])"
     },
     "execution_count": 37,
     "metadata": {},
     "output_type": "execute_result"
    }
   ],
   "source": [
    "B = [0.5]\n",
    "d = A*B\n",
    "d"
   ],
   "metadata": {
    "collapsed": false,
    "ExecuteTime": {
     "end_time": "2024-03-25T02:33:28.356990Z",
     "start_time": "2024-03-25T02:33:28.351202Z"
    }
   },
   "id": "9d456287fd648434",
   "execution_count": 37
  },
  {
   "cell_type": "markdown",
   "source": [
    "# TYPES OF MATRIX"
   ],
   "metadata": {
    "collapsed": false
   },
   "id": "716d81be7c409c5"
  },
  {
   "cell_type": "code",
   "outputs": [
    {
     "name": "stdout",
     "output_type": "stream",
     "text": [
      "[[1 0 0]\n",
      " [1 2 0]\n",
      " [1 2 3]]\n",
      "[[1 2 3]\n",
      " [0 2 3]\n",
      " [0 0 3]]\n"
     ]
    }
   ],
   "source": [
    "# TRIANGULAR MATRIX\n",
    "A = np.array([[1,2,3],\n",
    "              [1,2,3],\n",
    "              [1,2,3]])\n",
    "\n",
    "# Lower triangular \n",
    "lower = np.tril(A)\n",
    "\n",
    "# Upper triangular\n",
    "upper  = np.triu(A)\n",
    "\n",
    "print(lower)\n",
    "print(upper)"
   ],
   "metadata": {
    "collapsed": false,
    "ExecuteTime": {
     "end_time": "2024-03-25T02:33:28.376428Z",
     "start_time": "2024-03-25T02:33:28.371777Z"
    }
   },
   "id": "ad23c103e41e9d58",
   "execution_count": 38
  },
  {
   "cell_type": "code",
   "outputs": [
    {
     "name": "stdout",
     "output_type": "stream",
     "text": [
      "[1 2 3]\n",
      "[[1 0 0]\n",
      " [0 2 0]\n",
      " [0 0 3]]\n"
     ]
    }
   ],
   "source": [
    "#Diagonal Matrix\n",
    "d = np.diag(A)\n",
    "print(d)\n",
    "D = np.diag(d)\n",
    "print(D)"
   ],
   "metadata": {
    "collapsed": false,
    "ExecuteTime": {
     "end_time": "2024-03-25T02:33:28.401491Z",
     "start_time": "2024-03-25T02:33:28.396650Z"
    }
   },
   "id": "950f32212350be15",
   "execution_count": 39
  },
  {
   "cell_type": "markdown",
   "source": [
    "# MATRIX OPERATION"
   ],
   "metadata": {
    "collapsed": false
   },
   "id": "ca7454bdf5f0756b"
  },
  {
   "cell_type": "code",
   "outputs": [
    {
     "name": "stdout",
     "output_type": "stream",
     "text": [
      "[[1 3 5]\n",
      " [2 4 6]]\n"
     ]
    }
   ],
   "source": [
    "#MATRIX TRANSPOSE\n",
    "\n",
    "A = np.array([[1,2],\n",
    "              [3,4],\n",
    "              [5,6]])\n",
    "AT = A.T\n",
    "print(AT)"
   ],
   "metadata": {
    "collapsed": false,
    "ExecuteTime": {
     "end_time": "2024-03-25T02:33:28.512328Z",
     "start_time": "2024-03-25T02:33:28.507854Z"
    }
   },
   "id": "46ece2f58b2ada58",
   "execution_count": 40
  },
  {
   "cell_type": "code",
   "outputs": [
    {
     "name": "stdout",
     "output_type": "stream",
     "text": [
      "[[-2.   1. ]\n",
      " [ 1.5 -0.5]]\n",
      "[[1.0000000e+00 0.0000000e+00]\n",
      " [8.8817842e-16 1.0000000e+00]]\n"
     ]
    }
   ],
   "source": [
    "# iNVERSE\n",
    "D =np.array([[1,2],\n",
    "             [3,4]])\n",
    "B = np.linalg.inv(D)\n",
    "print(B)\n",
    "I = D.dot(B)\n",
    "print(I)\n"
   ],
   "metadata": {
    "collapsed": false,
    "ExecuteTime": {
     "end_time": "2024-03-25T02:33:28.605935Z",
     "start_time": "2024-03-25T02:33:28.599276Z"
    }
   },
   "id": "8e69cc0afa3d2762",
   "execution_count": 41
  },
  {
   "cell_type": "code",
   "outputs": [
    {
     "name": "stdout",
     "output_type": "stream",
     "text": [
      "5\n",
      "[[1 3 5]\n",
      " [2 4 6]]\n"
     ]
    }
   ],
   "source": [
    "# Trace of a MATRIX\n",
    "trace = np.trace(D)\n",
    "print(trace)\n",
    "\n",
    "transpose = np.transpose(A)\n",
    "print(transpose)"
   ],
   "metadata": {
    "collapsed": false,
    "ExecuteTime": {
     "end_time": "2024-03-25T02:33:28.650732Z",
     "start_time": "2024-03-25T02:33:28.645165Z"
    }
   },
   "id": "a0fbfce7bcb2981",
   "execution_count": 42
  },
  {
   "cell_type": "code",
   "outputs": [
    {
     "name": "stdout",
     "output_type": "stream",
     "text": [
      "-2.0000000000000004\n"
     ]
    }
   ],
   "source": [
    "# DETERMINANT\n",
    "deter = np.linalg.det(D)\n",
    "print(deter)"
   ],
   "metadata": {
    "collapsed": false,
    "ExecuteTime": {
     "end_time": "2024-03-25T02:33:28.743570Z",
     "start_time": "2024-03-25T02:33:28.738989Z"
    }
   },
   "id": "147897dfc2f8c2c9",
   "execution_count": 43
  },
  {
   "cell_type": "code",
   "outputs": [
    {
     "name": "stdout",
     "output_type": "stream",
     "text": [
      "  (0, 0)\t1\n",
      "  (1, 2)\t2\n",
      "  (0, 3)\t1\n",
      "  (2, 3)\t2\n",
      "  (1, 5)\t1\n",
      "[[1 0 0 1 0 0]\n",
      " [0 0 2 0 0 1]\n",
      " [0 0 0 2 0 0]]\n"
     ]
    }
   ],
   "source": [
    "A = np.array([\n",
    "     [1, 0, 0, 1, 0, 0],\n",
    "     [0, 0, 2, 0, 0, 1],\n",
    "     [0, 0, 0, 2, 0, 0]\n",
    "])\n",
    "\n",
    "B = sparse.csc_matrix(A)\n",
    "print(B)\n",
    "\n",
    "C = B.todense()\n",
    "print(C)"
   ],
   "metadata": {
    "collapsed": false,
    "ExecuteTime": {
     "end_time": "2024-03-25T02:33:28.779901Z",
     "start_time": "2024-03-25T02:33:28.774878Z"
    }
   },
   "id": "f348798062ff8efe",
   "execution_count": 44
  },
  {
   "cell_type": "markdown",
   "source": [
    "# TENSORS AND OPERATIONS "
   ],
   "metadata": {
    "collapsed": false
   },
   "id": "1102b3faeb7ca7d3"
  },
  {
   "cell_type": "code",
   "outputs": [],
   "source": [
    "A = np.array([\n",
    "    [[1,2,3],\n",
    "     [4,5,6],\n",
    "     [7,8,9]],\n",
    "    [[1,2,3],\n",
    "     [4,5,6],\n",
    "     [7,8,9]],\n",
    "    [[1,2,3],\n",
    "     [4,5,6],\n",
    "     [7,8,9]]\n",
    "])\n",
    "\n",
    "\n",
    "B = np.array([\n",
    "    [[1,2,3],\n",
    "     [4,5,6],\n",
    "     [7,8,9]],\n",
    "    [[1,2,3],\n",
    "     [4,5,6],\n",
    "     [7,8,9]],\n",
    "    [[1,2,3],\n",
    "     [4,5,6],\n",
    "     [7,8,9]]\n",
    "])"
   ],
   "metadata": {
    "collapsed": false,
    "ExecuteTime": {
     "end_time": "2024-03-25T02:33:28.806065Z",
     "start_time": "2024-03-25T02:33:28.799502Z"
    }
   },
   "id": "f8df637d66fa1e58",
   "execution_count": 45
  },
  {
   "cell_type": "code",
   "outputs": [
    {
     "name": "stdout",
     "output_type": "stream",
     "text": [
      "[[[ 2  4  6]\n",
      "  [ 8 10 12]\n",
      "  [14 16 18]]\n",
      "\n",
      " [[ 2  4  6]\n",
      "  [ 8 10 12]\n",
      "  [14 16 18]]\n",
      "\n",
      " [[ 2  4  6]\n",
      "  [ 8 10 12]\n",
      "  [14 16 18]]]\n"
     ]
    }
   ],
   "source": [
    "# ADDITIONS\n",
    "C = A + B\n",
    "print(C)"
   ],
   "metadata": {
    "collapsed": false,
    "ExecuteTime": {
     "end_time": "2024-03-25T02:33:28.894267Z",
     "start_time": "2024-03-25T02:33:28.890313Z"
    }
   },
   "id": "fa8a057208c80ac3",
   "execution_count": 46
  },
  {
   "cell_type": "code",
   "outputs": [
    {
     "name": "stdout",
     "output_type": "stream",
     "text": [
      "[[[0 0 0]\n",
      "  [0 0 0]\n",
      "  [0 0 0]]\n",
      "\n",
      " [[0 0 0]\n",
      "  [0 0 0]\n",
      "  [0 0 0]]\n",
      "\n",
      " [[0 0 0]\n",
      "  [0 0 0]\n",
      "  [0 0 0]]]\n"
     ]
    }
   ],
   "source": [
    "#SUBTRACTIONS\n",
    "C = A-B\n",
    "print(C)"
   ],
   "metadata": {
    "collapsed": false,
    "ExecuteTime": {
     "end_time": "2024-03-25T02:33:28.932628Z",
     "start_time": "2024-03-25T02:33:28.928800Z"
    }
   },
   "id": "da0de97262bbee3f",
   "execution_count": 47
  },
  {
   "cell_type": "code",
   "outputs": [
    {
     "name": "stdout",
     "output_type": "stream",
     "text": [
      "[[[ 1  4  9]\n",
      "  [16 25 36]\n",
      "  [49 64 81]]\n",
      "\n",
      " [[ 1  4  9]\n",
      "  [16 25 36]\n",
      "  [49 64 81]]\n",
      "\n",
      " [[ 1  4  9]\n",
      "  [16 25 36]\n",
      "  [49 64 81]]]\n"
     ]
    }
   ],
   "source": [
    "# MULTIPLICATIONS\n",
    "C = A*B\n",
    "print(C)"
   ],
   "metadata": {
    "collapsed": false,
    "ExecuteTime": {
     "end_time": "2024-03-25T02:33:29.036780Z",
     "start_time": "2024-03-25T02:33:29.029578Z"
    }
   },
   "id": "911482bccc4f3f48",
   "execution_count": 48
  },
  {
   "cell_type": "code",
   "outputs": [
    {
     "name": "stdout",
     "output_type": "stream",
     "text": [
      "[[[1. 1. 1.]\n",
      "  [1. 1. 1.]\n",
      "  [1. 1. 1.]]\n",
      "\n",
      " [[1. 1. 1.]\n",
      "  [1. 1. 1.]\n",
      "  [1. 1. 1.]]\n",
      "\n",
      " [[1. 1. 1.]\n",
      "  [1. 1. 1.]\n",
      "  [1. 1. 1.]]]\n"
     ]
    }
   ],
   "source": [
    "#DIVISIONS\n",
    "C = A/B\n",
    "print(C)"
   ],
   "metadata": {
    "collapsed": false,
    "ExecuteTime": {
     "end_time": "2024-03-25T02:33:29.079990Z",
     "start_time": "2024-03-25T02:33:29.075453Z"
    }
   },
   "id": "c70e3b7f117ce478",
   "execution_count": 49
  },
  {
   "cell_type": "code",
   "outputs": [
    {
     "name": "stdout",
     "output_type": "stream",
     "text": [
      "[[[[[[ 1  2  3]\n",
      "     [ 4  5  6]\n",
      "     [ 7  8  9]]\n",
      "\n",
      "    [[ 1  2  3]\n",
      "     [ 4  5  6]\n",
      "     [ 7  8  9]]\n",
      "\n",
      "    [[ 1  2  3]\n",
      "     [ 4  5  6]\n",
      "     [ 7  8  9]]]\n",
      "\n",
      "\n",
      "   [[[ 2  4  6]\n",
      "     [ 8 10 12]\n",
      "     [14 16 18]]\n",
      "\n",
      "    [[ 2  4  6]\n",
      "     [ 8 10 12]\n",
      "     [14 16 18]]\n",
      "\n",
      "    [[ 2  4  6]\n",
      "     [ 8 10 12]\n",
      "     [14 16 18]]]\n",
      "\n",
      "\n",
      "   [[[ 3  6  9]\n",
      "     [12 15 18]\n",
      "     [21 24 27]]\n",
      "\n",
      "    [[ 3  6  9]\n",
      "     [12 15 18]\n",
      "     [21 24 27]]\n",
      "\n",
      "    [[ 3  6  9]\n",
      "     [12 15 18]\n",
      "     [21 24 27]]]]\n",
      "\n",
      "\n",
      "\n",
      "  [[[[ 4  8 12]\n",
      "     [16 20 24]\n",
      "     [28 32 36]]\n",
      "\n",
      "    [[ 4  8 12]\n",
      "     [16 20 24]\n",
      "     [28 32 36]]\n",
      "\n",
      "    [[ 4  8 12]\n",
      "     [16 20 24]\n",
      "     [28 32 36]]]\n",
      "\n",
      "\n",
      "   [[[ 5 10 15]\n",
      "     [20 25 30]\n",
      "     [35 40 45]]\n",
      "\n",
      "    [[ 5 10 15]\n",
      "     [20 25 30]\n",
      "     [35 40 45]]\n",
      "\n",
      "    [[ 5 10 15]\n",
      "     [20 25 30]\n",
      "     [35 40 45]]]\n",
      "\n",
      "\n",
      "   [[[ 6 12 18]\n",
      "     [24 30 36]\n",
      "     [42 48 54]]\n",
      "\n",
      "    [[ 6 12 18]\n",
      "     [24 30 36]\n",
      "     [42 48 54]]\n",
      "\n",
      "    [[ 6 12 18]\n",
      "     [24 30 36]\n",
      "     [42 48 54]]]]\n",
      "\n",
      "\n",
      "\n",
      "  [[[[ 7 14 21]\n",
      "     [28 35 42]\n",
      "     [49 56 63]]\n",
      "\n",
      "    [[ 7 14 21]\n",
      "     [28 35 42]\n",
      "     [49 56 63]]\n",
      "\n",
      "    [[ 7 14 21]\n",
      "     [28 35 42]\n",
      "     [49 56 63]]]\n",
      "\n",
      "\n",
      "   [[[ 8 16 24]\n",
      "     [32 40 48]\n",
      "     [56 64 72]]\n",
      "\n",
      "    [[ 8 16 24]\n",
      "     [32 40 48]\n",
      "     [56 64 72]]\n",
      "\n",
      "    [[ 8 16 24]\n",
      "     [32 40 48]\n",
      "     [56 64 72]]]\n",
      "\n",
      "\n",
      "   [[[ 9 18 27]\n",
      "     [36 45 54]\n",
      "     [63 72 81]]\n",
      "\n",
      "    [[ 9 18 27]\n",
      "     [36 45 54]\n",
      "     [63 72 81]]\n",
      "\n",
      "    [[ 9 18 27]\n",
      "     [36 45 54]\n",
      "     [63 72 81]]]]]\n",
      "\n",
      "\n",
      "\n",
      "\n",
      " [[[[[ 1  2  3]\n",
      "     [ 4  5  6]\n",
      "     [ 7  8  9]]\n",
      "\n",
      "    [[ 1  2  3]\n",
      "     [ 4  5  6]\n",
      "     [ 7  8  9]]\n",
      "\n",
      "    [[ 1  2  3]\n",
      "     [ 4  5  6]\n",
      "     [ 7  8  9]]]\n",
      "\n",
      "\n",
      "   [[[ 2  4  6]\n",
      "     [ 8 10 12]\n",
      "     [14 16 18]]\n",
      "\n",
      "    [[ 2  4  6]\n",
      "     [ 8 10 12]\n",
      "     [14 16 18]]\n",
      "\n",
      "    [[ 2  4  6]\n",
      "     [ 8 10 12]\n",
      "     [14 16 18]]]\n",
      "\n",
      "\n",
      "   [[[ 3  6  9]\n",
      "     [12 15 18]\n",
      "     [21 24 27]]\n",
      "\n",
      "    [[ 3  6  9]\n",
      "     [12 15 18]\n",
      "     [21 24 27]]\n",
      "\n",
      "    [[ 3  6  9]\n",
      "     [12 15 18]\n",
      "     [21 24 27]]]]\n",
      "\n",
      "\n",
      "\n",
      "  [[[[ 4  8 12]\n",
      "     [16 20 24]\n",
      "     [28 32 36]]\n",
      "\n",
      "    [[ 4  8 12]\n",
      "     [16 20 24]\n",
      "     [28 32 36]]\n",
      "\n",
      "    [[ 4  8 12]\n",
      "     [16 20 24]\n",
      "     [28 32 36]]]\n",
      "\n",
      "\n",
      "   [[[ 5 10 15]\n",
      "     [20 25 30]\n",
      "     [35 40 45]]\n",
      "\n",
      "    [[ 5 10 15]\n",
      "     [20 25 30]\n",
      "     [35 40 45]]\n",
      "\n",
      "    [[ 5 10 15]\n",
      "     [20 25 30]\n",
      "     [35 40 45]]]\n",
      "\n",
      "\n",
      "   [[[ 6 12 18]\n",
      "     [24 30 36]\n",
      "     [42 48 54]]\n",
      "\n",
      "    [[ 6 12 18]\n",
      "     [24 30 36]\n",
      "     [42 48 54]]\n",
      "\n",
      "    [[ 6 12 18]\n",
      "     [24 30 36]\n",
      "     [42 48 54]]]]\n",
      "\n",
      "\n",
      "\n",
      "  [[[[ 7 14 21]\n",
      "     [28 35 42]\n",
      "     [49 56 63]]\n",
      "\n",
      "    [[ 7 14 21]\n",
      "     [28 35 42]\n",
      "     [49 56 63]]\n",
      "\n",
      "    [[ 7 14 21]\n",
      "     [28 35 42]\n",
      "     [49 56 63]]]\n",
      "\n",
      "\n",
      "   [[[ 8 16 24]\n",
      "     [32 40 48]\n",
      "     [56 64 72]]\n",
      "\n",
      "    [[ 8 16 24]\n",
      "     [32 40 48]\n",
      "     [56 64 72]]\n",
      "\n",
      "    [[ 8 16 24]\n",
      "     [32 40 48]\n",
      "     [56 64 72]]]\n",
      "\n",
      "\n",
      "   [[[ 9 18 27]\n",
      "     [36 45 54]\n",
      "     [63 72 81]]\n",
      "\n",
      "    [[ 9 18 27]\n",
      "     [36 45 54]\n",
      "     [63 72 81]]\n",
      "\n",
      "    [[ 9 18 27]\n",
      "     [36 45 54]\n",
      "     [63 72 81]]]]]\n",
      "\n",
      "\n",
      "\n",
      "\n",
      " [[[[[ 1  2  3]\n",
      "     [ 4  5  6]\n",
      "     [ 7  8  9]]\n",
      "\n",
      "    [[ 1  2  3]\n",
      "     [ 4  5  6]\n",
      "     [ 7  8  9]]\n",
      "\n",
      "    [[ 1  2  3]\n",
      "     [ 4  5  6]\n",
      "     [ 7  8  9]]]\n",
      "\n",
      "\n",
      "   [[[ 2  4  6]\n",
      "     [ 8 10 12]\n",
      "     [14 16 18]]\n",
      "\n",
      "    [[ 2  4  6]\n",
      "     [ 8 10 12]\n",
      "     [14 16 18]]\n",
      "\n",
      "    [[ 2  4  6]\n",
      "     [ 8 10 12]\n",
      "     [14 16 18]]]\n",
      "\n",
      "\n",
      "   [[[ 3  6  9]\n",
      "     [12 15 18]\n",
      "     [21 24 27]]\n",
      "\n",
      "    [[ 3  6  9]\n",
      "     [12 15 18]\n",
      "     [21 24 27]]\n",
      "\n",
      "    [[ 3  6  9]\n",
      "     [12 15 18]\n",
      "     [21 24 27]]]]\n",
      "\n",
      "\n",
      "\n",
      "  [[[[ 4  8 12]\n",
      "     [16 20 24]\n",
      "     [28 32 36]]\n",
      "\n",
      "    [[ 4  8 12]\n",
      "     [16 20 24]\n",
      "     [28 32 36]]\n",
      "\n",
      "    [[ 4  8 12]\n",
      "     [16 20 24]\n",
      "     [28 32 36]]]\n",
      "\n",
      "\n",
      "   [[[ 5 10 15]\n",
      "     [20 25 30]\n",
      "     [35 40 45]]\n",
      "\n",
      "    [[ 5 10 15]\n",
      "     [20 25 30]\n",
      "     [35 40 45]]\n",
      "\n",
      "    [[ 5 10 15]\n",
      "     [20 25 30]\n",
      "     [35 40 45]]]\n",
      "\n",
      "\n",
      "   [[[ 6 12 18]\n",
      "     [24 30 36]\n",
      "     [42 48 54]]\n",
      "\n",
      "    [[ 6 12 18]\n",
      "     [24 30 36]\n",
      "     [42 48 54]]\n",
      "\n",
      "    [[ 6 12 18]\n",
      "     [24 30 36]\n",
      "     [42 48 54]]]]\n",
      "\n",
      "\n",
      "\n",
      "  [[[[ 7 14 21]\n",
      "     [28 35 42]\n",
      "     [49 56 63]]\n",
      "\n",
      "    [[ 7 14 21]\n",
      "     [28 35 42]\n",
      "     [49 56 63]]\n",
      "\n",
      "    [[ 7 14 21]\n",
      "     [28 35 42]\n",
      "     [49 56 63]]]\n",
      "\n",
      "\n",
      "   [[[ 8 16 24]\n",
      "     [32 40 48]\n",
      "     [56 64 72]]\n",
      "\n",
      "    [[ 8 16 24]\n",
      "     [32 40 48]\n",
      "     [56 64 72]]\n",
      "\n",
      "    [[ 8 16 24]\n",
      "     [32 40 48]\n",
      "     [56 64 72]]]\n",
      "\n",
      "\n",
      "   [[[ 9 18 27]\n",
      "     [36 45 54]\n",
      "     [63 72 81]]\n",
      "\n",
      "    [[ 9 18 27]\n",
      "     [36 45 54]\n",
      "     [63 72 81]]\n",
      "\n",
      "    [[ 9 18 27]\n",
      "     [36 45 54]\n",
      "     [63 72 81]]]]]]\n",
      "(3, 3, 3, 3, 3, 3)\n"
     ]
    }
   ],
   "source": [
    "#DOT PRODUCT\n",
    "C = np.tensordot(A,B,axes=0)\n",
    "print(C)\n",
    "print(C.shape)"
   ],
   "metadata": {
    "collapsed": false,
    "ExecuteTime": {
     "end_time": "2024-03-25T02:33:29.186708Z",
     "start_time": "2024-03-25T02:33:29.178858Z"
    }
   },
   "id": "e9765401a922064a",
   "execution_count": 50
  },
  {
   "cell_type": "code",
   "outputs": [
    {
     "name": "stdout",
     "output_type": "stream",
     "text": [
      "(3, 3, 3, 3)\n",
      "[[[[ 1  2  3]\n",
      "   [ 4  5  6]\n",
      "   [ 7  8  9]]\n",
      "\n",
      "  [[ 2  4  6]\n",
      "   [ 8 10 12]\n",
      "   [14 16 18]]\n",
      "\n",
      "  [[ 3  6  9]\n",
      "   [12 15 18]\n",
      "   [21 24 27]]]\n",
      "\n",
      "\n",
      " [[[ 4  8 12]\n",
      "   [16 20 24]\n",
      "   [28 32 36]]\n",
      "\n",
      "  [[ 5 10 15]\n",
      "   [20 25 30]\n",
      "   [35 40 45]]\n",
      "\n",
      "  [[ 6 12 18]\n",
      "   [24 30 36]\n",
      "   [42 48 54]]]\n",
      "\n",
      "\n",
      " [[[ 7 14 21]\n",
      "   [28 35 42]\n",
      "   [49 56 63]]\n",
      "\n",
      "  [[ 8 16 24]\n",
      "   [32 40 48]\n",
      "   [56 64 72]]\n",
      "\n",
      "  [[ 9 18 27]\n",
      "   [36 45 54]\n",
      "   [63 72 81]]]]\n"
     ]
    }
   ],
   "source": [
    "A = np.array([\n",
    "     [1,2,3],\n",
    "     [4,5,6],\n",
    "     [7,8,9]])\n",
    "\n",
    "B = np.array([\n",
    "     [1,2,3],\n",
    "     [4,5,6],\n",
    "     [7,8,9]])\n",
    "C = np.tensordot(A,B,axes=0)\n",
    "print(C.shape)\n",
    "print(C)"
   ],
   "metadata": {
    "collapsed": false,
    "ExecuteTime": {
     "end_time": "2024-03-25T02:33:29.245007Z",
     "start_time": "2024-03-25T02:33:29.233394Z"
    }
   },
   "id": "a49f583d044b52b4",
   "execution_count": 51
  },
  {
   "cell_type": "code",
   "outputs": [
    {
     "name": "stdout",
     "output_type": "stream",
     "text": [
      "(2, 2, 2, 2)\n"
     ]
    }
   ],
   "source": [
    "A = np.array([\n",
    "    [1,2],\n",
    "    [3,4]\n",
    "])\n",
    "B = np.array([\n",
    "    [1,2],\n",
    "    [3,4]\n",
    "])\n",
    "\n",
    "C = np.tensordot(A,B , axes=0)\n",
    "print(C.shape)\n"
   ],
   "metadata": {
    "collapsed": false,
    "ExecuteTime": {
     "end_time": "2024-03-25T02:33:29.332799Z",
     "start_time": "2024-03-25T02:33:29.328039Z"
    }
   },
   "id": "727edfb4fb27bb85",
   "execution_count": 52
  },
  {
   "cell_type": "code",
   "outputs": [
    {
     "name": "stdout",
     "output_type": "stream",
     "text": [
      "[[ 13  16  19  22  25]\n",
      " [ 27  34  41  48  55]\n",
      " [ 41  52  63  74  85]\n",
      " [ 55  70  85 100 115]]\n"
     ]
    }
   ],
   "source": [
    "A  = np.array([\n",
    "    [1,2],[3,4],[5,6],[7,8]\n",
    "])\n",
    "\n",
    "B = np.array([\n",
    "    [1,2,3,4,5],[6,7,8,9,10]\n",
    "])\n",
    "\n",
    "C = A.dot(B)\n",
    "print(C)"
   ],
   "metadata": {
    "collapsed": false,
    "ExecuteTime": {
     "end_time": "2024-03-25T02:33:29.357517Z",
     "start_time": "2024-03-25T02:33:29.352055Z"
    }
   },
   "id": "c4894eadc1ca6ca6",
   "execution_count": 53
  },
  {
   "cell_type": "markdown",
   "source": [
    "# STATISTICS"
   ],
   "metadata": {
    "collapsed": false
   },
   "id": "be6fcf72ed85a85d"
  },
  {
   "cell_type": "code",
   "outputs": [
    {
     "name": "stdout",
     "output_type": "stream",
     "text": [
      "3.5\n"
     ]
    }
   ],
   "source": [
    "# MEAN \n",
    "A = np.array([1,2,3,4,5,6])\n",
    "mean = np.mean(A)\n",
    "print(mean)"
   ],
   "metadata": {
    "collapsed": false,
    "ExecuteTime": {
     "end_time": "2024-03-25T02:33:29.392624Z",
     "start_time": "2024-03-25T02:33:29.388550Z"
    }
   },
   "id": "ee4a7291c37366a6",
   "execution_count": 54
  },
  {
   "cell_type": "code",
   "outputs": [
    {
     "name": "stdout",
     "output_type": "stream",
     "text": [
      "[1. 2. 3. 4. 5. 6.]\n",
      "[3.5 3.5]\n"
     ]
    }
   ],
   "source": [
    "# Row-Wise, Column-Wise Mean\n",
    "A = np.array([\n",
    "    [1,2,3,4,5,6],\n",
    "    [1,2,3,4,5,6]\n",
    "])\n",
    "col_mean = np.mean(A, axis=0)\n",
    "row_mean = np.mean(A, axis=1)\n",
    "print(col_mean)\n",
    "print(row_mean)"
   ],
   "metadata": {
    "collapsed": false,
    "ExecuteTime": {
     "end_time": "2024-03-25T02:33:29.490839Z",
     "start_time": "2024-03-25T02:33:29.485955Z"
    }
   },
   "id": "f6f048c61b9332eb",
   "execution_count": 55
  },
  {
   "cell_type": "code",
   "outputs": [],
   "source": [
    "import matplotlib.pyplot as plt"
   ],
   "metadata": {
    "collapsed": false,
    "ExecuteTime": {
     "end_time": "2024-03-25T02:33:30.011107Z",
     "start_time": "2024-03-25T02:33:29.592669Z"
    }
   },
   "id": "b39c8df5b506f0d5",
   "execution_count": 56
  },
  {
   "cell_type": "code",
   "outputs": [],
   "source": [
    "x = [8,12,9,10,15,11,14,17,10,8,23,21,20,22,18,17,19,15,13,16]"
   ],
   "metadata": {
    "collapsed": false,
    "ExecuteTime": {
     "end_time": "2024-03-25T02:33:30.016301Z",
     "start_time": "2024-03-25T02:33:30.012373Z"
    }
   },
   "id": "14b786b72644ce2e",
   "execution_count": 57
  },
  {
   "cell_type": "code",
   "outputs": [
    {
     "data": {
      "text/plain": "(array([3., 2., 2., 1., 3., 1., 3., 1., 2., 2.]),\n array([ 8. ,  9.5, 11. , 12.5, 14. , 15.5, 17. , 18.5, 20. , 21.5, 23. ]),\n <BarContainer object of 10 artists>)"
     },
     "execution_count": 58,
     "metadata": {},
     "output_type": "execute_result"
    },
    {
     "data": {
      "text/plain": "<Figure size 640x480 with 1 Axes>",
      "image/png": "[encoded data removed]"
     },
     "metadata": {},
     "output_type": "display_data"
    }
   ],
   "source": [
    "plt.hist(x)"
   ],
   "metadata": {
    "collapsed": false,
    "ExecuteTime": {
     "end_time": "2024-03-25T02:33:30.212471Z",
     "start_time": "2024-03-25T02:33:30.017436Z"
    }
   },
   "id": "4e48a27f3698679a",
   "execution_count": 58
  },
  {
   "cell_type": "code",
   "outputs": [
    {
     "data": {
      "text/plain": "(array([3., 2., 2., 1., 3., 1., 3., 1., 2., 2.]),\n array([ 4.  ,  4.75,  5.5 ,  6.25,  7.  ,  7.75,  8.5 ,  9.25, 10.  ,\n        10.75, 11.5 ]),\n <BarContainer object of 10 artists>)"
     },
     "execution_count": 59,
     "metadata": {},
     "output_type": "execute_result"
    },
    {
     "data": {
      "text/plain": "<Figure size 640x480 with 1 Axes>",
      "image/png": "[encoded data removed]"
     },
     "metadata": {},
     "output_type": "display_data"
    }
   ],
   "source": [
    "q  = [x2/2 for x2 in x]\n",
    "plt.hist(q)"
   ],
   "metadata": {
    "collapsed": false,
    "ExecuteTime": {
     "end_time": "2024-03-25T02:33:30.423573Z",
     "start_time": "2024-03-25T02:33:30.214641Z"
    }
   },
   "id": "ceb3c52f2f4cb81e",
   "execution_count": 59
  },
  {
   "cell_type": "code",
   "outputs": [
    {
     "name": "stdout",
     "output_type": "stream",
     "text": [
      "[[ 1  2]\n",
      " [ 3  4]\n",
      " [ 5  6]\n",
      " [ 7  8]\n",
      " [ 9 10]]\n"
     ]
    }
   ],
   "source": [
    "a = np.array([\n",
    "    [1,2],[3,4],[5,6],[7,8],[9,10]\n",
    "])\n",
    "print(a)"
   ],
   "metadata": {
    "collapsed": false,
    "ExecuteTime": {
     "end_time": "2024-03-25T02:33:30.431114Z",
     "start_time": "2024-03-25T02:33:30.425571Z"
    }
   },
   "id": "1690a3add658f2a0",
   "execution_count": 60
  },
  {
   "cell_type": "code",
   "outputs": [
    {
     "name": "stdout",
     "output_type": "stream",
     "text": [
      "[[ True  True]\n",
      " [ True  True]\n",
      " [ True  True]\n",
      " [ True False]\n",
      " [ True  True]]\n"
     ]
    }
   ],
   "source": [
    "keep_prob = 0.6\n",
    "d3 = np.random.randn(a.shape[0],a.shape[1]) <keep_prob\n",
    "print(d3)"
   ],
   "metadata": {
    "collapsed": false,
    "ExecuteTime": {
     "end_time": "2024-03-25T02:33:30.440414Z",
     "start_time": "2024-03-25T02:33:30.432281Z"
    }
   },
   "id": "9ec4630c87f42d8e",
   "execution_count": 61
  },
  {
   "cell_type": "code",
   "outputs": [
    {
     "name": "stdout",
     "output_type": "stream",
     "text": [
      "[[ 1  2]\n",
      " [ 3  4]\n",
      " [ 5  6]\n",
      " [ 7  0]\n",
      " [ 9 10]]\n",
      "[[ 1  3]\n",
      " [ 5  6]\n",
      " [ 8 10]\n",
      " [11  0]\n",
      " [15 16]]\n"
     ]
    }
   ],
   "source": [
    "a3 = np.multiply(a,d3)\n",
    "print(a3)\n",
    "b3 = (a3 / keep_prob).astype(np.int32)\n",
    "print(b3)"
   ],
   "metadata": {
    "collapsed": false,
    "ExecuteTime": {
     "end_time": "2024-03-25T02:33:30.449665Z",
     "start_time": "2024-03-25T02:33:30.441471Z"
    }
   },
   "id": "92c67293af192a11",
   "execution_count": 62
  },
  {
   "cell_type": "code",
   "outputs": [],
   "source": [],
   "metadata": {
    "collapsed": false,
    "ExecuteTime": {
     "end_time": "2024-03-25T02:33:30.454574Z",
     "start_time": "2024-03-25T02:33:30.450735Z"
    }
   },
   "id": "f5498301fe18f8ff",
   "execution_count": 62
  },
  {
   "cell_type": "code",
   "outputs": [],
   "source": [],
   "metadata": {
    "collapsed": false,
    "ExecuteTime": {
     "end_time": "2024-03-25T02:33:30.458716Z",
     "start_time": "2024-03-25T02:33:30.455655Z"
    }
   },
   "id": "908d004ae8d299ee",
   "execution_count": 62
  },
  {
   "cell_type": "code",
   "outputs": [],
   "source": [],
   "metadata": {
    "collapsed": false,
    "ExecuteTime": {
     "end_time": "2024-03-25T02:33:30.465577Z",
     "start_time": "2024-03-25T02:33:30.460877Z"
    }
   },
   "id": "6a2e9bebe231899a",
   "execution_count": 62
  },
  {
   "cell_type": "code",
   "outputs": [],
   "source": [],
   "metadata": {
    "collapsed": false,
    "ExecuteTime": {
     "end_time": "2024-03-25T02:33:30.471289Z",
     "start_time": "2024-03-25T02:33:30.466664Z"
    }
   },
   "id": "eb6189a18d8a962",
   "execution_count": 62
  }
 ],
 "metadata": {
  "kernelspec": {
   "display_name": "Python 3",
   "language": "python",
   "name": "python3"
  },
  "language_info": {
   "codemirror_mode": {
    "name": "ipython",
    "version": 2
   },
   "file_extension": ".py",
   "mimetype": "text/x-python",
   "name": "python",
   "nbconvert_exporter": "python",
   "pygments_lexer": "ipython2",
   "version": "2.7.6"
  }
 },
 "nbformat": 4,
 "nbformat_minor": 5
}
