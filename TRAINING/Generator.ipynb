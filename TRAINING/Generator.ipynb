{
 "cells": [
  {
   "cell_type": "code",
   "execution_count": 3,
   "id": "initial_id",
   "metadata": {
    "collapsed": true,
    "ExecuteTime": {
     "end_time": "2024-02-18T16:29:48.367022200Z",
     "start_time": "2024-02-18T16:29:48.336402300Z"
    }
   },
   "outputs": [
    {
     "name": "stdout",
     "output_type": "stream",
     "text": [
      "[1, 4, 9, 16]\n"
     ]
    }
   ],
   "source": [
    "#Generator\n",
    "\n",
    "#Normal function\n",
    "def square_number(x):\n",
    "    result = []\n",
    "    for i in x:\n",
    "        result.append(i*i)\n",
    "    return result\n",
    "\n",
    "squares = square_number([1,2,3,4])       \n",
    "print(squares)"
   ]
  },
  {
   "cell_type": "code",
   "outputs": [
    {
     "name": "stdout",
     "output_type": "stream",
     "text": [
      "1\n",
      "4\n",
      "9\n",
      "16\n"
     ]
    }
   ],
   "source": [
    "# Generator\n",
    "def square_numbers(x):\n",
    "    for i in x:\n",
    "        yield  i*i\n",
    "\n",
    "squares = square_numbers([1,2,3,4])\n",
    "for y in squares:\n",
    "    print(y)"
   ],
   "metadata": {
    "collapsed": false,
    "ExecuteTime": {
     "end_time": "2024-02-18T16:32:54.320699400Z",
     "start_time": "2024-02-18T16:32:54.302910500Z"
    }
   },
   "id": "98ff7b069336ffb0",
   "execution_count": 10
  },
  {
   "cell_type": "code",
   "outputs": [
    {
     "name": "stdout",
     "output_type": "stream",
     "text": [
      "<generator object <genexpr> at 0x000001F9B22918A0>\n",
      "1\n",
      "4\n",
      "9\n",
      "16\n",
      "[]\n"
     ]
    }
   ],
   "source": [
    "#Generator 2\n",
    "q = (x*x for x in [1,2,3,4])\n",
    "print(q)\n",
    "for a in q:\n",
    "    print(a)\n",
    "print(list(q))"
   ],
   "metadata": {
    "collapsed": false,
    "ExecuteTime": {
     "end_time": "2024-02-18T16:35:40.464094200Z",
     "start_time": "2024-02-18T16:35:40.455450700Z"
    }
   },
   "id": "d1b01a0e445b5db3",
   "execution_count": 15
  }
 ],
 "metadata": {
  "kernelspec": {
   "display_name": "Python 3",
   "language": "python",
   "name": "python3"
  },
  "language_info": {
   "codemirror_mode": {
    "name": "ipython",
    "version": 2
   },
   "file_extension": ".py",
   "mimetype": "text/x-python",
   "name": "python",
   "nbconvert_exporter": "python",
   "pygments_lexer": "ipython2",
   "version": "2.7.6"
  }
 },
 "nbformat": 4,
 "nbformat_minor": 5
}
