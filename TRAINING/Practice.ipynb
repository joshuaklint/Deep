{
 "cells": [
  {
   "cell_type": "code",
   "execution_count": 41,
   "id": "initial_id",
   "metadata": {
    "collapsed": true,
    "ExecuteTime": {
     "end_time": "2023-12-20T13:28:42.026637800Z",
     "start_time": "2023-12-20T13:28:41.873294100Z"
    }
   },
   "outputs": [
    {
     "name": "stdout",
     "output_type": "stream",
     "text": [
      "Hello world\n",
      "!!!!!!!!!!!!!!!!!!!!\n",
      "££££££££££££££££££££\n"
     ]
    }
   ],
   "source": [
    "print('Hello world')\n",
    "print('!!'*10)\n",
    "print('££'*10) \n"
   ]
  },
  {
   "cell_type": "code",
   "execution_count": 42,
   "outputs": [
    {
     "name": "stdout",
     "output_type": "stream",
     "text": [
      "Joshua likes Black\n"
     ]
    }
   ],
   "source": [
    "name = input('what is your name: ')\n",
    "color = input('what is your favorite color: ')\n",
    "print( name + ' likes ' + color)"
   ],
   "metadata": {
    "collapsed": false,
    "ExecuteTime": {
     "end_time": "2023-12-20T13:28:50.060192400Z",
     "start_time": "2023-12-20T13:28:42.032345900Z"
    }
   },
   "id": "2e5a1da1aada2e9e"
  },
  {
   "cell_type": "code",
   "execution_count": 43,
   "outputs": [
    {
     "name": "stdout",
     "output_type": "stream",
     "text": [
      "you are  23\n"
     ]
    }
   ],
   "source": [
    "DOB = int(input('what is your Date of birth: '))\n",
    "year = int(input('what year are you in: '))\n",
    "age =  year -DOB\n",
    "print('you are ',age)\n"
   ],
   "metadata": {
    "collapsed": false,
    "ExecuteTime": {
     "end_time": "2023-12-20T13:28:57.288834200Z",
     "start_time": "2023-12-20T13:28:49.999315700Z"
    }
   },
   "id": "893f9314cb9581ed"
  },
  {
   "cell_type": "code",
   "execution_count": 44,
   "outputs": [
    {
     "name": "stdout",
     "output_type": "stream",
     "text": [
      "you are  76.5 kg\n"
     ]
    }
   ],
   "source": [
    "weighP = int(input('what is your weight in pounds: '))\n",
    "weighkg = 0.45*weighP\n",
    "print('you are ',weighkg, 'kg')"
   ],
   "metadata": {
    "collapsed": false,
    "ExecuteTime": {
     "end_time": "2023-12-20T13:29:01.465097Z",
     "start_time": "2023-12-20T13:28:57.271197200Z"
    }
   },
   "id": "672843f81f832d6d"
  },
  {
   "cell_type": "code",
   "execution_count": 45,
   "outputs": [
    {
     "name": "stdout",
     "output_type": "stream",
     "text": [
      "python's course for beginners\n",
      "python course for \"beginners\"\n"
     ]
    }
   ],
   "source": [
    "#STRINGS\n",
    "course = \"python's course for beginners\"\n",
    "print(course)\n",
    "course1 = 'python course for \"beginners\"'\n",
    "print(course1)"
   ],
   "metadata": {
    "collapsed": false,
    "ExecuteTime": {
     "end_time": "2023-12-20T13:29:01.466206800Z",
     "start_time": "2023-12-20T13:29:01.374482600Z"
    }
   },
   "id": "261b26ccabd0c252"
  },
  {
   "cell_type": "code",
   "execution_count": 46,
   "outputs": [
    {
     "name": "stdout",
     "output_type": "stream",
     "text": [
      "\n",
      "Hi joshua\n",
      "This is my first python course\n",
      "Great to embark on this journey\n"
     ]
    }
   ],
   "source": [
    "#STRINGS\n",
    "course2 = '''\n",
    "Hi joshua\n",
    "This is my first python course\n",
    "Great to embark on this journey'''\n",
    "print(course2)"
   ],
   "metadata": {
    "collapsed": false,
    "ExecuteTime": {
     "end_time": "2023-12-20T13:29:01.467992800Z",
     "start_time": "2023-12-20T13:29:01.388841200Z"
    }
   },
   "id": "86ed3a66933bbfca"
  },
  {
   "cell_type": "code",
   "execution_count": 47,
   "outputs": [
    {
     "name": "stdout",
     "output_type": "stream",
     "text": [
      "\n",
      "Hi joshua\n",
      "This is my first python course\n",
      "Great to embark on this journey\n"
     ]
    }
   ],
   "source": [
    "print(course2[:])"
   ],
   "metadata": {
    "collapsed": false,
    "ExecuteTime": {
     "end_time": "2023-12-20T13:29:01.469993600Z",
     "start_time": "2023-12-20T13:29:01.402020200Z"
    }
   },
   "id": "6365f720952dc42a"
  },
  {
   "cell_type": "code",
   "execution_count": 48,
   "outputs": [
    {
     "name": "stdout",
     "output_type": "stream",
     "text": [
      "Hello John Smith is a coder\n",
      "John [Smith] is a coder\n",
      "my first name is [John] and my last name is [Smith], I am a coder\n"
     ]
    }
   ],
   "source": [
    "#FORMATTING STRINGS\n",
    "first   = 'John'\n",
    "last = 'Smith'\n",
    "msg = f'Hello {first} {last} is a coder'\n",
    "msg2 = f'{first} [{last}] is a coder'\n",
    "msg3 = f'my first name is [{first}] and my last name is [{last}], I am a coder'\n",
    "print(msg)\n",
    "print(msg2)\n",
    "print(msg3)"
   ],
   "metadata": {
    "collapsed": false,
    "ExecuteTime": {
     "end_time": "2023-12-20T13:29:01.501336700Z",
     "start_time": "2023-12-20T13:29:01.428279900Z"
    }
   },
   "id": "c3428fcf57c2492"
  },
  {
   "cell_type": "code",
   "execution_count": 49,
   "outputs": [
    {
     "name": "stdout",
     "output_type": "stream",
     "text": [
      "13\n",
      "True\n"
     ]
    }
   ],
   "source": [
    "#STRINGS METHODS\n",
    "course  = 'Python Course'\n",
    "print(len(course))\n",
    "course.upper()\n",
    "course.capitalize()\n",
    "course.lower()\n",
    "course.replace('Course', 'For Absolute Beginners')\n",
    "print('Python' in course)"
   ],
   "metadata": {
    "collapsed": false,
    "ExecuteTime": {
     "end_time": "2023-12-20T13:29:01.769053700Z",
     "start_time": "2023-12-20T13:29:01.508093700Z"
    }
   },
   "id": "4098b0a92622c3de"
  },
  {
   "cell_type": "code",
   "execution_count": 50,
   "outputs": [
    {
     "name": "stdout",
     "output_type": "stream",
     "text": [
      "2.99\n",
      "3\n"
     ]
    }
   ],
   "source": [
    "#ARITHMETRIC OPERATIONS\n",
    "x = 2.99\n",
    "y = -2.99\n",
    "print(abs(y))\n",
    "print(round(x))"
   ],
   "metadata": {
    "collapsed": false,
    "ExecuteTime": {
     "end_time": "2023-12-20T13:29:01.861627600Z",
     "start_time": "2023-12-20T13:29:01.743406700Z"
    }
   },
   "id": "a11ea41278055867"
  },
  {
   "cell_type": "code",
   "execution_count": 51,
   "outputs": [
    {
     "name": "stdout",
     "output_type": "stream",
     "text": [
      "they need to put down 10%\n",
      "Print the credit score\n"
     ]
    }
   ],
   "source": [
    "good_credit = True\n",
    "\n",
    "if good_credit:\n",
    "    print('they need to put down 10%')\n",
    "else:\n",
    "    print('they need to put down 20%')\n",
    "print('Print the credit score')"
   ],
   "metadata": {
    "collapsed": false,
    "ExecuteTime": {
     "end_time": "2023-12-20T13:29:01.905134600Z",
     "start_time": "2023-12-20T13:29:01.868269700Z"
    }
   },
   "id": "38acc181a222215e"
  },
  {
   "cell_type": "code",
   "execution_count": 52,
   "outputs": [
    {
     "name": "stdout",
     "output_type": "stream",
     "text": [
      "name looks good\n"
     ]
    }
   ],
   "source": [
    "name = input('what is your :')\n",
    "if len(name)<3:\n",
    "    print('name must be at least 3 characters long')\n",
    "elif len(name)>50:\n",
    "    print('name can be a maximum of 50 characters')\n",
    "else:\n",
    "    print('name looks good')"
   ],
   "metadata": {
    "collapsed": false,
    "ExecuteTime": {
     "end_time": "2023-12-20T13:29:17.371000400Z",
     "start_time": "2023-12-20T13:29:01.911356600Z"
    }
   },
   "id": "96c565829a40c6e0"
  },
  {
   "cell_type": "code",
   "execution_count": 53,
   "outputs": [
    {
     "ename": "SyntaxError",
     "evalue": "incomplete input (2928011030.py, line 11)",
     "output_type": "error",
     "traceback": [
      "\u001B[1;36m  Cell \u001B[1;32mIn[53], line 11\u001B[1;36m\u001B[0m\n\u001B[1;33m    \u001B[0m\n\u001B[1;37m    ^\u001B[0m\n\u001B[1;31mSyntaxError\u001B[0m\u001B[1;31m:\u001B[0m incomplete input\n"
     ]
    }
   ],
   "source": [
    "weight = int(input('weight: '))\n",
    "units = input('units (L)bs or (K)g ')\n",
    "\n",
    "if units.upper() == 'L':\n",
    "    converted = weight*0.453592\n",
    "    print(f'{converted:.2f} in Kgs')\n",
    "elif units.upper() == 'K':\n",
    "    converted = weight/0.45\n",
    "    print(f'{converted:.2f} in pounds')\n",
    "else:\\\n",
    "    print('break')"
   ],
   "metadata": {
    "collapsed": false,
    "ExecuteTime": {
     "end_time": "2023-12-20T13:29:17.388158200Z",
     "start_time": "2023-12-20T13:29:17.333688Z"
    }
   },
   "id": "f0257b3c033af661"
  },
  {
   "cell_type": "markdown",
   "source": [],
   "metadata": {
    "collapsed": false
   },
   "id": "8e2877303811f6af"
  },
  {
   "cell_type": "code",
   "execution_count": 57,
   "outputs": [
    {
     "name": "stdout",
     "output_type": "stream",
     "text": [
      "*\n",
      "**\n",
      "***\n",
      "****\n",
      "*****\n",
      "break\n"
     ]
    }
   ],
   "source": [
    "i = 1\n",
    "while i<=5:\n",
    "    print('*'* i)\n",
    "    i+=1\n",
    "print('break')"
   ],
   "metadata": {
    "collapsed": false,
    "ExecuteTime": {
     "end_time": "2023-12-20T13:32:00.664457300Z",
     "start_time": "2023-12-20T13:32:00.630656900Z"
    }
   },
   "id": "1275f061875e2f77"
  },
  {
   "cell_type": "code",
   "execution_count": 55,
   "outputs": [
    {
     "name": "stdout",
     "output_type": "stream",
     "text": [
      "Congratulations!\n"
     ]
    }
   ],
   "source": [
    "secret_number = 9\n",
    "guess_count = 0\n",
    "guess_limit = 3\n",
    "while guess_count < guess_limit:\n",
    "     guess = int(input('Guess: '))\n",
    "     guess_count += 1\n",
    "     if guess == secret_number:\n",
    "         print('Congratulations!')\n",
    "         break\n",
    "else:\n",
    "    print('Sorry, you guessed wrongly')\n",
    "    "
   ],
   "metadata": {
    "collapsed": false,
    "ExecuteTime": {
     "end_time": "2023-12-20T13:29:27.082268400Z",
     "start_time": "2023-12-20T13:29:17.398355500Z"
    }
   },
   "id": "bebc02fdc3d7b01b"
  },
  {
   "cell_type": "code",
   "execution_count": 59,
   "outputs": [
    {
     "name": "stdout",
     "output_type": "stream",
     "text": [
      "Car have stopped\n",
      "invalid command\n"
     ]
    }
   ],
   "source": [
    "command = ''\n",
    "while True :\n",
    "    command = input('enter a command: ')\n",
    "    if command == 'Start':\n",
    "        print('Car have started')\n",
    "    elif command == 'stop':\n",
    "        print('Car have stopped')\n",
    "    elif command == 'help':\n",
    "        print('''\n",
    "        start - starts the car\n",
    "        stop - stops the car\n",
    "        quit - quits the car\n",
    "        ''')\n",
    "    elif command == 'quit':\n",
    "        break\n",
    "    else:\n",
    "        print('invalid command')"
   ],
   "metadata": {
    "collapsed": false,
    "ExecuteTime": {
     "end_time": "2023-12-20T14:36:08.859847300Z",
     "start_time": "2023-12-20T14:35:57.325472Z"
    }
   },
   "id": "7b525846cb5c8012"
  }
 ],
 "metadata": {
  "kernelspec": {
   "display_name": "Python 3",
   "language": "python",
   "name": "python3"
  },
  "language_info": {
   "codemirror_mode": {
    "name": "ipython",
    "version": 2
   },
   "file_extension": ".py",
   "mimetype": "text/x-python",
   "name": "python",
   "nbconvert_exporter": "python",
   "pygments_lexer": "ipython2",
   "version": "2.7.6"
  }
 },
 "nbformat": 4,
 "nbformat_minor": 5
}
